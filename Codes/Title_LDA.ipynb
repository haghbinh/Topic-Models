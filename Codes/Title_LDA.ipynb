{
 "cells": [
  {
   "cell_type": "markdown",
   "metadata": {},
   "source": [
    "# Topic Model For Titles"
   ]
  },
  {
   "cell_type": "markdown",
   "metadata": {},
   "source": [
    "## Prepare data for LDA Analysis"
   ]
  },
  {
   "cell_type": "code",
   "execution_count": 1,
   "metadata": {},
   "outputs": [
    {
     "name": "stderr",
     "output_type": "stream",
     "text": [
      "C:\\Users\\Haghbin\\AppData\\Local\\Programs\\Python\\Python38\\lib\\site-packages\\gensim\\similarities\\__init__.py:15: UserWarning: The gensim.similarities.levenshtein submodule is disabled, because the optional Levenshtein package <https://pypi.org/project/python-Levenshtein/> is unavailable. Install Levenhstein (e.g. `pip install python-Levenshtein`) to suppress this warning.\n",
      "  warnings.warn(msg)\n"
     ]
    }
   ],
   "source": [
    "import pandas as pd\n",
    "import gensim\n",
    "from gensim import corpora, models\n",
    "from gensim.utils import simple_preprocess\n",
    "import nltk\n",
    "from nltk.corpus import stopwords\n",
    "from pprint import pprint\n",
    "# nltk.download('stopwords')"
   ]
  },
  {
   "cell_type": "code",
   "execution_count": 2,
   "metadata": {},
   "outputs": [],
   "source": [
    "papers = pd.read_csv('./Dataset_00_02_10_cleaned.csv')"
   ]
  },
  {
   "cell_type": "code",
   "execution_count": 4,
   "metadata": {},
   "outputs": [
    {
     "data": {
      "text/html": [
       "<div>\n",
       "<style scoped>\n",
       "    .dataframe tbody tr th:only-of-type {\n",
       "        vertical-align: middle;\n",
       "    }\n",
       "\n",
       "    .dataframe tbody tr th {\n",
       "        vertical-align: top;\n",
       "    }\n",
       "\n",
       "    .dataframe thead th {\n",
       "        text-align: right;\n",
       "    }\n",
       "</style>\n",
       "<table border=\"1\" class=\"dataframe\">\n",
       "  <thead>\n",
       "    <tr style=\"text-align: right;\">\n",
       "      <th></th>\n",
       "      <th>Title</th>\n",
       "      <th>Year</th>\n",
       "      <th>Cited by</th>\n",
       "      <th>Affiliations</th>\n",
       "      <th>Abstract</th>\n",
       "      <th>Author Keywords</th>\n",
       "      <th>Index Keywords</th>\n",
       "      <th>paper_Title_processed</th>\n",
       "      <th>paper_Abstract_processed</th>\n",
       "    </tr>\n",
       "  </thead>\n",
       "  <tbody>\n",
       "    <tr>\n",
       "      <th>0</th>\n",
       "      <td>Connectionism and cognitive architecture: A cr...</td>\n",
       "      <td>1988</td>\n",
       "      <td>1606.0</td>\n",
       "      <td>CUNY Graduate Center, United States; Universit...</td>\n",
       "      <td>This paper explores differences between Connec...</td>\n",
       "      <td>NaN</td>\n",
       "      <td>article; brain; cognition; human; linguistics;...</td>\n",
       "      <td>connectionism and cognitive architecture a cri...</td>\n",
       "      <td>this paper explores differences between connec...</td>\n",
       "    </tr>\n",
       "    <tr>\n",
       "      <th>1</th>\n",
       "      <td>Implicit Learning and Tacit Knowledge</td>\n",
       "      <td>1989</td>\n",
       "      <td>1213.0</td>\n",
       "      <td>Brooklyn College, the Graduate Center, City Un...</td>\n",
       "      <td>I examine the phenomenon of implicit learning,...</td>\n",
       "      <td>NaN</td>\n",
       "      <td>NaN</td>\n",
       "      <td>implicit learning and tacit knowledge</td>\n",
       "      <td>i examine the phenomenon of implicit learning ...</td>\n",
       "    </tr>\n",
       "    <tr>\n",
       "      <th>2</th>\n",
       "      <td>Stable Adaptive Teleoperation</td>\n",
       "      <td>1991</td>\n",
       "      <td>1091.0</td>\n",
       "      <td>Nonlinear Systems Laboratory, Massachusetts In...</td>\n",
       "      <td>Telerobotics, the body of science and technolo...</td>\n",
       "      <td>NaN</td>\n",
       "      <td>Control Systems, Cascade; Control Systems, Del...</td>\n",
       "      <td>stable adaptive teleoperation</td>\n",
       "      <td>telerobotics the body of science and technolog...</td>\n",
       "    </tr>\n",
       "    <tr>\n",
       "      <th>3</th>\n",
       "      <td>Hippocampal synaptic enhancement and informati...</td>\n",
       "      <td>1987</td>\n",
       "      <td>885.0</td>\n",
       "      <td>Department of Psychology, University of Colora...</td>\n",
       "      <td>The hypothesis that the physical substrate of ...</td>\n",
       "      <td>NaN</td>\n",
       "      <td>animal experiment; central nervous system; ele...</td>\n",
       "      <td>hippocampal synaptic enhancement and informati...</td>\n",
       "      <td>the hypothesis that the physical substrate of ...</td>\n",
       "    </tr>\n",
       "    <tr>\n",
       "      <th>4</th>\n",
       "      <td>Catastrophic Interference in Connectionist Net...</td>\n",
       "      <td>1989</td>\n",
       "      <td>803.0</td>\n",
       "      <td>NaN</td>\n",
       "      <td>Connectionist networks in which information is...</td>\n",
       "      <td>NaN</td>\n",
       "      <td>NaN</td>\n",
       "      <td>catastrophic interference in connectionist net...</td>\n",
       "      <td>connectionist networks in which information is...</td>\n",
       "    </tr>\n",
       "  </tbody>\n",
       "</table>\n",
       "</div>"
      ],
      "text/plain": [
       "                                               Title  Year  Cited by  \\\n",
       "0  Connectionism and cognitive architecture: A cr...  1988    1606.0   \n",
       "1              Implicit Learning and Tacit Knowledge  1989    1213.0   \n",
       "2                      Stable Adaptive Teleoperation  1991    1091.0   \n",
       "3  Hippocampal synaptic enhancement and informati...  1987     885.0   \n",
       "4  Catastrophic Interference in Connectionist Net...  1989     803.0   \n",
       "\n",
       "                                        Affiliations  \\\n",
       "0  CUNY Graduate Center, United States; Universit...   \n",
       "1  Brooklyn College, the Graduate Center, City Un...   \n",
       "2  Nonlinear Systems Laboratory, Massachusetts In...   \n",
       "3  Department of Psychology, University of Colora...   \n",
       "4                                                NaN   \n",
       "\n",
       "                                            Abstract Author Keywords  \\\n",
       "0  This paper explores differences between Connec...             NaN   \n",
       "1  I examine the phenomenon of implicit learning,...             NaN   \n",
       "2  Telerobotics, the body of science and technolo...             NaN   \n",
       "3  The hypothesis that the physical substrate of ...             NaN   \n",
       "4  Connectionist networks in which information is...             NaN   \n",
       "\n",
       "                                      Index Keywords  \\\n",
       "0  article; brain; cognition; human; linguistics;...   \n",
       "1                                                NaN   \n",
       "2  Control Systems, Cascade; Control Systems, Del...   \n",
       "3  animal experiment; central nervous system; ele...   \n",
       "4                                                NaN   \n",
       "\n",
       "                               paper_Title_processed  \\\n",
       "0  connectionism and cognitive architecture a cri...   \n",
       "1              implicit learning and tacit knowledge   \n",
       "2                      stable adaptive teleoperation   \n",
       "3  hippocampal synaptic enhancement and informati...   \n",
       "4  catastrophic interference in connectionist net...   \n",
       "\n",
       "                            paper_Abstract_processed  \n",
       "0  this paper explores differences between connec...  \n",
       "1  i examine the phenomenon of implicit learning ...  \n",
       "2  telerobotics the body of science and technolog...  \n",
       "3  the hypothesis that the physical substrate of ...  \n",
       "4  connectionist networks in which information is...  "
      ]
     },
     "execution_count": 4,
     "metadata": {},
     "output_type": "execute_result"
    }
   ],
   "source": [
    "papers.head(5)"
   ]
  },
  {
   "cell_type": "markdown",
   "metadata": {},
   "source": [
    "## TF Model"
   ]
  },
  {
   "cell_type": "code",
   "execution_count": 3,
   "metadata": {},
   "outputs": [
    {
     "name": "stdout",
     "output_type": "stream",
     "text": [
      "[['connectionism', 'cognitive', 'architecture', 'critical', 'analysis'], ['implicit', 'learning', 'tacit', 'knowledge'], ['stable', 'adaptive', 'teleoperation']]\n"
     ]
    }
   ],
   "source": [
    "stop_words = stopwords.words('english')\n",
    "stop_words.extend(['from', 'subject', 're', 'edu', 'use'])\n",
    "def sent_to_words(sentences):\n",
    "    for sentence in sentences:\n",
    "        # deacc=True removes punctuations\n",
    "        yield(gensim.utils.simple_preprocess(str(sentence), deacc=True))\n",
    "def remove_stopwords(texts):\n",
    "    return [[word for word in simple_preprocess(str(doc)) \n",
    "             if word not in stop_words] for doc in texts]\n",
    "data = papers.paper_Title_processed.values.tolist()\n",
    "data_words = list(sent_to_words(data))\n",
    "# remove stop words\n",
    "data_words = remove_stopwords(data_words)\n",
    "print(data_words[0:3])"
   ]
  },
  {
   "cell_type": "code",
   "execution_count": 4,
   "metadata": {},
   "outputs": [
    {
     "name": "stdout",
     "output_type": "stream",
     "text": [
      "[[(0, 1), (1, 1), (2, 1), (3, 1), (4, 1)], [(5, 1), (6, 1), (7, 1), (8, 1)]]\n"
     ]
    }
   ],
   "source": [
    "import gensim.corpora as corpora\n",
    "# Create Dictionary\n",
    "id2word_title = corpora.Dictionary(data_words)\n",
    "# Create Corpus\n",
    "texts = data_words\n",
    "# Term Document Frequency\n",
    "bow_corpus_title = [id2word_title.doc2bow(text) for text in texts]\n",
    "# View\n",
    "print(bow_corpus_title[:2])"
   ]
  },
  {
   "cell_type": "markdown",
   "metadata": {},
   "source": [
    "## TF-IDF Model"
   ]
  },
  {
   "cell_type": "code",
   "execution_count": 5,
   "metadata": {},
   "outputs": [
    {
     "name": "stdout",
     "output_type": "stream",
     "text": [
      "[(0, 0.3712402375680893),\n",
      " (1, 0.48730678479343864),\n",
      " (2, 0.13887937534795927),\n",
      " (3, 0.5987029024388394),\n",
      " (4, 0.49697096214863506)]\n"
     ]
    }
   ],
   "source": [
    "tfidf_title = gensim.models.TfidfModel(bow_corpus_title)\n",
    "corpus_tfidf_title = tfidf_title[bow_corpus_title]\n",
    "\n",
    "for doc in corpus_tfidf_title:\n",
    "    pprint(doc)\n",
    "    break"
   ]
  },
  {
   "cell_type": "markdown",
   "metadata": {},
   "source": [
    "# Running LDA using Bag of Words"
   ]
  },
  {
   "cell_type": "code",
   "execution_count": 6,
   "metadata": {},
   "outputs": [
    {
     "name": "stderr",
     "output_type": "stream",
     "text": [
      "ERROR:root:Internal Python error in the inspect module.\n",
      "Below is the traceback from this internal error.\n",
      "\n"
     ]
    },
    {
     "name": "stdout",
     "output_type": "stream",
     "text": [
      "Traceback (most recent call last):\n",
      "  File \"C:\\Users\\Haghbin\\AppData\\Local\\Programs\\Python\\Python38\\lib\\site-packages\\gensim\\models\\ldamulticore.py\", line 292, in update\n",
      "    job_queue.put((chunk_no, chunk, self.state), block=False)\n",
      "  File \"C:\\Users\\Haghbin\\AppData\\Local\\Programs\\Python\\Python38\\lib\\multiprocessing\\queues.py\", line 84, in put\n",
      "    raise Full\n",
      "queue.Full\n",
      "\n",
      "During handling of the above exception, another exception occurred:\n",
      "\n",
      "Traceback (most recent call last):\n",
      "  File \"C:\\Users\\Haghbin\\AppData\\Roaming\\Python\\Python38\\site-packages\\IPython\\core\\interactiveshell.py\", line 3418, in run_code\n",
      "    exec(code_obj, self.user_global_ns, self.user_ns)\n",
      "  File \"<ipython-input-6-067c468533b2>\", line 4, in <module>\n",
      "    lda_model_title_bow = gensim.models.LdaMulticore(corpus=bow_corpus_title,id2word=id2word_title,\n",
      "  File \"C:\\Users\\Haghbin\\AppData\\Local\\Programs\\Python\\Python38\\lib\\site-packages\\gensim\\models\\ldamulticore.py\", line 179, in __init__\n",
      "    super(LdaMulticore, self).__init__(\n",
      "  File \"C:\\Users\\Haghbin\\AppData\\Local\\Programs\\Python\\Python38\\lib\\site-packages\\gensim\\models\\ldamodel.py\", line 523, in __init__\n",
      "    self.update(corpus, chunks_as_numpy=use_numpy)\n",
      "  File \"C:\\Users\\Haghbin\\AppData\\Local\\Programs\\Python\\Python38\\lib\\site-packages\\gensim\\models\\ldamulticore.py\", line 303, in update\n",
      "    process_result_queue()\n",
      "  File \"C:\\Users\\Haghbin\\AppData\\Local\\Programs\\Python\\Python38\\lib\\site-packages\\gensim\\models\\ldamulticore.py\", line 268, in process_result_queue\n",
      "    while not result_queue.empty():\n",
      "  File \"C:\\Users\\Haghbin\\AppData\\Local\\Programs\\Python\\Python38\\lib\\multiprocessing\\queues.py\", line 123, in empty\n",
      "    return not self._poll()\n",
      "  File \"C:\\Users\\Haghbin\\AppData\\Local\\Programs\\Python\\Python38\\lib\\multiprocessing\\connection.py\", line 257, in poll\n",
      "    return self._poll(timeout)\n",
      "  File \"C:\\Users\\Haghbin\\AppData\\Local\\Programs\\Python\\Python38\\lib\\multiprocessing\\connection.py\", line 330, in _poll\n",
      "    return bool(wait([self], timeout))\n",
      "  File \"C:\\Users\\Haghbin\\AppData\\Local\\Programs\\Python\\Python38\\lib\\multiprocessing\\connection.py\", line 883, in wait\n",
      "    ov.cancel()\n",
      "KeyboardInterrupt\n",
      "\n",
      "During handling of the above exception, another exception occurred:\n",
      "\n",
      "Traceback (most recent call last):\n",
      "  File \"C:\\Users\\Haghbin\\AppData\\Roaming\\Python\\Python38\\site-packages\\IPython\\core\\interactiveshell.py\", line 2045, in showtraceback\n",
      "    stb = value._render_traceback_()\n",
      "AttributeError: 'KeyboardInterrupt' object has no attribute '_render_traceback_'\n",
      "\n",
      "During handling of the above exception, another exception occurred:\n",
      "\n",
      "Traceback (most recent call last):\n",
      "  File \"C:\\Users\\Haghbin\\AppData\\Roaming\\Python\\Python38\\site-packages\\IPython\\core\\ultratb.py\", line 1170, in get_records\n",
      "    return _fixed_getinnerframes(etb, number_of_lines_of_context, tb_offset)\n",
      "  File \"C:\\Users\\Haghbin\\AppData\\Roaming\\Python\\Python38\\site-packages\\IPython\\core\\ultratb.py\", line 316, in wrapped\n",
      "    return f(*args, **kwargs)\n",
      "  File \"C:\\Users\\Haghbin\\AppData\\Roaming\\Python\\Python38\\site-packages\\IPython\\core\\ultratb.py\", line 350, in _fixed_getinnerframes\n",
      "    records = fix_frame_records_filenames(inspect.getinnerframes(etb, context))\n",
      "  File \"C:\\Users\\Haghbin\\AppData\\Local\\Programs\\Python\\Python38\\lib\\inspect.py\", line 1515, in getinnerframes\n",
      "    frameinfo = (tb.tb_frame,) + getframeinfo(tb, context)\n",
      "  File \"C:\\Users\\Haghbin\\AppData\\Local\\Programs\\Python\\Python38\\lib\\inspect.py\", line 1473, in getframeinfo\n",
      "    filename = getsourcefile(frame) or getfile(frame)\n",
      "  File \"C:\\Users\\Haghbin\\AppData\\Local\\Programs\\Python\\Python38\\lib\\inspect.py\", line 708, in getsourcefile\n",
      "    if getattr(getmodule(object, filename), '__loader__', None) is not None:\n",
      "  File \"C:\\Users\\Haghbin\\AppData\\Local\\Programs\\Python\\Python38\\lib\\inspect.py\", line 754, in getmodule\n",
      "    os.path.realpath(f)] = module.__name__\n",
      "  File \"C:\\Users\\Haghbin\\AppData\\Local\\Programs\\Python\\Python38\\lib\\ntpath.py\", line 647, in realpath\n",
      "    path = _getfinalpathname(path)\n",
      "KeyboardInterrupt\n"
     ]
    },
    {
     "ename": "TypeError",
     "evalue": "object of type 'NoneType' has no len()",
     "output_type": "error",
     "traceback": [
      "\u001b[1;31m---------------------------------------------------------------------------\u001b[0m",
      "\u001b[1;31mFull\u001b[0m                                      Traceback (most recent call last)",
      "\u001b[1;32m~\\AppData\\Local\\Programs\\Python\\Python38\\lib\\site-packages\\gensim\\models\\ldamulticore.py\u001b[0m in \u001b[0;36mupdate\u001b[1;34m(self, corpus, chunks_as_numpy)\u001b[0m\n\u001b[0;32m    291\u001b[0m                     \u001b[1;32mtry\u001b[0m\u001b[1;33m:\u001b[0m\u001b[1;33m\u001b[0m\u001b[1;33m\u001b[0m\u001b[0m\n\u001b[1;32m--> 292\u001b[1;33m                         \u001b[0mjob_queue\u001b[0m\u001b[1;33m.\u001b[0m\u001b[0mput\u001b[0m\u001b[1;33m(\u001b[0m\u001b[1;33m(\u001b[0m\u001b[0mchunk_no\u001b[0m\u001b[1;33m,\u001b[0m \u001b[0mchunk\u001b[0m\u001b[1;33m,\u001b[0m \u001b[0mself\u001b[0m\u001b[1;33m.\u001b[0m\u001b[0mstate\u001b[0m\u001b[1;33m)\u001b[0m\u001b[1;33m,\u001b[0m \u001b[0mblock\u001b[0m\u001b[1;33m=\u001b[0m\u001b[1;32mFalse\u001b[0m\u001b[1;33m)\u001b[0m\u001b[1;33m\u001b[0m\u001b[1;33m\u001b[0m\u001b[0m\n\u001b[0m\u001b[0;32m    293\u001b[0m                         \u001b[0mqueue_size\u001b[0m\u001b[1;33m[\u001b[0m\u001b[1;36m0\u001b[0m\u001b[1;33m]\u001b[0m \u001b[1;33m+=\u001b[0m \u001b[1;36m1\u001b[0m\u001b[1;33m\u001b[0m\u001b[1;33m\u001b[0m\u001b[0m\n",
      "\u001b[1;32m~\\AppData\\Local\\Programs\\Python\\Python38\\lib\\multiprocessing\\queues.py\u001b[0m in \u001b[0;36mput\u001b[1;34m(self, obj, block, timeout)\u001b[0m\n\u001b[0;32m     83\u001b[0m         \u001b[1;32mif\u001b[0m \u001b[1;32mnot\u001b[0m \u001b[0mself\u001b[0m\u001b[1;33m.\u001b[0m\u001b[0m_sem\u001b[0m\u001b[1;33m.\u001b[0m\u001b[0macquire\u001b[0m\u001b[1;33m(\u001b[0m\u001b[0mblock\u001b[0m\u001b[1;33m,\u001b[0m \u001b[0mtimeout\u001b[0m\u001b[1;33m)\u001b[0m\u001b[1;33m:\u001b[0m\u001b[1;33m\u001b[0m\u001b[1;33m\u001b[0m\u001b[0m\n\u001b[1;32m---> 84\u001b[1;33m             \u001b[1;32mraise\u001b[0m \u001b[0mFull\u001b[0m\u001b[1;33m\u001b[0m\u001b[1;33m\u001b[0m\u001b[0m\n\u001b[0m\u001b[0;32m     85\u001b[0m \u001b[1;33m\u001b[0m\u001b[0m\n",
      "\u001b[1;31mFull\u001b[0m: ",
      "\nDuring handling of the above exception, another exception occurred:\n",
      "\u001b[1;31mKeyboardInterrupt\u001b[0m                         Traceback (most recent call last)",
      "    \u001b[1;31m[... skipping hidden 1 frame]\u001b[0m\n",
      "\u001b[1;32m<ipython-input-6-067c468533b2>\u001b[0m in \u001b[0;36m<module>\u001b[1;34m\u001b[0m\n\u001b[0;32m      3\u001b[0m \u001b[1;31m# Build LDA model\u001b[0m\u001b[1;33m\u001b[0m\u001b[1;33m\u001b[0m\u001b[1;33m\u001b[0m\u001b[0m\n\u001b[1;32m----> 4\u001b[1;33m lda_model_title_bow = gensim.models.LdaMulticore(corpus=bow_corpus_title,id2word=id2word_title,\n\u001b[0m\u001b[0;32m      5\u001b[0m                                              num_topics=num_topics,passes=2, workers=2)\n",
      "\u001b[1;32m~\\AppData\\Local\\Programs\\Python\\Python38\\lib\\site-packages\\gensim\\models\\ldamulticore.py\u001b[0m in \u001b[0;36m__init__\u001b[1;34m(self, corpus, num_topics, id2word, workers, chunksize, passes, batch, alpha, eta, decay, offset, eval_every, iterations, gamma_threshold, random_state, minimum_probability, minimum_phi_value, per_word_topics, dtype)\u001b[0m\n\u001b[0;32m    178\u001b[0m \u001b[1;33m\u001b[0m\u001b[0m\n\u001b[1;32m--> 179\u001b[1;33m         super(LdaMulticore, self).__init__(\n\u001b[0m\u001b[0;32m    180\u001b[0m             \u001b[0mcorpus\u001b[0m\u001b[1;33m=\u001b[0m\u001b[0mcorpus\u001b[0m\u001b[1;33m,\u001b[0m \u001b[0mnum_topics\u001b[0m\u001b[1;33m=\u001b[0m\u001b[0mnum_topics\u001b[0m\u001b[1;33m,\u001b[0m\u001b[1;33m\u001b[0m\u001b[1;33m\u001b[0m\u001b[0m\n",
      "\u001b[1;32m~\\AppData\\Local\\Programs\\Python\\Python38\\lib\\site-packages\\gensim\\models\\ldamodel.py\u001b[0m in \u001b[0;36m__init__\u001b[1;34m(self, corpus, num_topics, id2word, distributed, chunksize, passes, update_every, alpha, eta, decay, offset, eval_every, iterations, gamma_threshold, minimum_probability, random_state, ns_conf, minimum_phi_value, per_word_topics, callbacks, dtype)\u001b[0m\n\u001b[0;32m    522\u001b[0m             \u001b[0mstart\u001b[0m \u001b[1;33m=\u001b[0m \u001b[0mtime\u001b[0m\u001b[1;33m.\u001b[0m\u001b[0mtime\u001b[0m\u001b[1;33m(\u001b[0m\u001b[1;33m)\u001b[0m\u001b[1;33m\u001b[0m\u001b[1;33m\u001b[0m\u001b[0m\n\u001b[1;32m--> 523\u001b[1;33m             \u001b[0mself\u001b[0m\u001b[1;33m.\u001b[0m\u001b[0mupdate\u001b[0m\u001b[1;33m(\u001b[0m\u001b[0mcorpus\u001b[0m\u001b[1;33m,\u001b[0m \u001b[0mchunks_as_numpy\u001b[0m\u001b[1;33m=\u001b[0m\u001b[0muse_numpy\u001b[0m\u001b[1;33m)\u001b[0m\u001b[1;33m\u001b[0m\u001b[1;33m\u001b[0m\u001b[0m\n\u001b[0m\u001b[0;32m    524\u001b[0m             self.add_lifecycle_event(\n",
      "\u001b[1;32m~\\AppData\\Local\\Programs\\Python\\Python38\\lib\\site-packages\\gensim\\models\\ldamulticore.py\u001b[0m in \u001b[0;36mupdate\u001b[1;34m(self, corpus, chunks_as_numpy)\u001b[0m\n\u001b[0;32m    302\u001b[0m                         \u001b[1;31m# result queue, to make sure we don't deadlock\u001b[0m\u001b[1;33m\u001b[0m\u001b[1;33m\u001b[0m\u001b[1;33m\u001b[0m\u001b[0m\n\u001b[1;32m--> 303\u001b[1;33m                         \u001b[0mprocess_result_queue\u001b[0m\u001b[1;33m(\u001b[0m\u001b[1;33m)\u001b[0m\u001b[1;33m\u001b[0m\u001b[1;33m\u001b[0m\u001b[0m\n\u001b[0m\u001b[0;32m    304\u001b[0m \u001b[1;33m\u001b[0m\u001b[0m\n",
      "\u001b[1;32m~\\AppData\\Local\\Programs\\Python\\Python38\\lib\\site-packages\\gensim\\models\\ldamulticore.py\u001b[0m in \u001b[0;36mprocess_result_queue\u001b[1;34m(force)\u001b[0m\n\u001b[0;32m    267\u001b[0m             \u001b[0mmerged_new\u001b[0m \u001b[1;33m=\u001b[0m \u001b[1;32mFalse\u001b[0m\u001b[1;33m\u001b[0m\u001b[1;33m\u001b[0m\u001b[0m\n\u001b[1;32m--> 268\u001b[1;33m             \u001b[1;32mwhile\u001b[0m \u001b[1;32mnot\u001b[0m \u001b[0mresult_queue\u001b[0m\u001b[1;33m.\u001b[0m\u001b[0mempty\u001b[0m\u001b[1;33m(\u001b[0m\u001b[1;33m)\u001b[0m\u001b[1;33m:\u001b[0m\u001b[1;33m\u001b[0m\u001b[1;33m\u001b[0m\u001b[0m\n\u001b[0m\u001b[0;32m    269\u001b[0m                 \u001b[0mother\u001b[0m\u001b[1;33m.\u001b[0m\u001b[0mmerge\u001b[0m\u001b[1;33m(\u001b[0m\u001b[0mresult_queue\u001b[0m\u001b[1;33m.\u001b[0m\u001b[0mget\u001b[0m\u001b[1;33m(\u001b[0m\u001b[1;33m)\u001b[0m\u001b[1;33m)\u001b[0m\u001b[1;33m\u001b[0m\u001b[1;33m\u001b[0m\u001b[0m\n",
      "\u001b[1;32m~\\AppData\\Local\\Programs\\Python\\Python38\\lib\\multiprocessing\\queues.py\u001b[0m in \u001b[0;36mempty\u001b[1;34m(self)\u001b[0m\n\u001b[0;32m    122\u001b[0m     \u001b[1;32mdef\u001b[0m \u001b[0mempty\u001b[0m\u001b[1;33m(\u001b[0m\u001b[0mself\u001b[0m\u001b[1;33m)\u001b[0m\u001b[1;33m:\u001b[0m\u001b[1;33m\u001b[0m\u001b[1;33m\u001b[0m\u001b[0m\n\u001b[1;32m--> 123\u001b[1;33m         \u001b[1;32mreturn\u001b[0m \u001b[1;32mnot\u001b[0m \u001b[0mself\u001b[0m\u001b[1;33m.\u001b[0m\u001b[0m_poll\u001b[0m\u001b[1;33m(\u001b[0m\u001b[1;33m)\u001b[0m\u001b[1;33m\u001b[0m\u001b[1;33m\u001b[0m\u001b[0m\n\u001b[0m\u001b[0;32m    124\u001b[0m \u001b[1;33m\u001b[0m\u001b[0m\n",
      "\u001b[1;32m~\\AppData\\Local\\Programs\\Python\\Python38\\lib\\multiprocessing\\connection.py\u001b[0m in \u001b[0;36mpoll\u001b[1;34m(self, timeout)\u001b[0m\n\u001b[0;32m    256\u001b[0m         \u001b[0mself\u001b[0m\u001b[1;33m.\u001b[0m\u001b[0m_check_readable\u001b[0m\u001b[1;33m(\u001b[0m\u001b[1;33m)\u001b[0m\u001b[1;33m\u001b[0m\u001b[1;33m\u001b[0m\u001b[0m\n\u001b[1;32m--> 257\u001b[1;33m         \u001b[1;32mreturn\u001b[0m \u001b[0mself\u001b[0m\u001b[1;33m.\u001b[0m\u001b[0m_poll\u001b[0m\u001b[1;33m(\u001b[0m\u001b[0mtimeout\u001b[0m\u001b[1;33m)\u001b[0m\u001b[1;33m\u001b[0m\u001b[1;33m\u001b[0m\u001b[0m\n\u001b[0m\u001b[0;32m    258\u001b[0m \u001b[1;33m\u001b[0m\u001b[0m\n",
      "\u001b[1;32m~\\AppData\\Local\\Programs\\Python\\Python38\\lib\\multiprocessing\\connection.py\u001b[0m in \u001b[0;36m_poll\u001b[1;34m(self, timeout)\u001b[0m\n\u001b[0;32m    329\u001b[0m                 \u001b[1;32mreturn\u001b[0m \u001b[1;32mTrue\u001b[0m\u001b[1;33m\u001b[0m\u001b[1;33m\u001b[0m\u001b[0m\n\u001b[1;32m--> 330\u001b[1;33m             \u001b[1;32mreturn\u001b[0m \u001b[0mbool\u001b[0m\u001b[1;33m(\u001b[0m\u001b[0mwait\u001b[0m\u001b[1;33m(\u001b[0m\u001b[1;33m[\u001b[0m\u001b[0mself\u001b[0m\u001b[1;33m]\u001b[0m\u001b[1;33m,\u001b[0m \u001b[0mtimeout\u001b[0m\u001b[1;33m)\u001b[0m\u001b[1;33m)\u001b[0m\u001b[1;33m\u001b[0m\u001b[1;33m\u001b[0m\u001b[0m\n\u001b[0m\u001b[0;32m    331\u001b[0m \u001b[1;33m\u001b[0m\u001b[0m\n",
      "\u001b[1;32m~\\AppData\\Local\\Programs\\Python\\Python38\\lib\\multiprocessing\\connection.py\u001b[0m in \u001b[0;36mwait\u001b[1;34m(object_list, timeout)\u001b[0m\n\u001b[0;32m    882\u001b[0m             \u001b[1;32mfor\u001b[0m \u001b[0mov\u001b[0m \u001b[1;32min\u001b[0m \u001b[0mov_list\u001b[0m\u001b[1;33m:\u001b[0m\u001b[1;33m\u001b[0m\u001b[1;33m\u001b[0m\u001b[0m\n\u001b[1;32m--> 883\u001b[1;33m                 \u001b[0mov\u001b[0m\u001b[1;33m.\u001b[0m\u001b[0mcancel\u001b[0m\u001b[1;33m(\u001b[0m\u001b[1;33m)\u001b[0m\u001b[1;33m\u001b[0m\u001b[1;33m\u001b[0m\u001b[0m\n\u001b[0m\u001b[0;32m    884\u001b[0m \u001b[1;33m\u001b[0m\u001b[0m\n",
      "\u001b[1;31mKeyboardInterrupt\u001b[0m: ",
      "\nDuring handling of the above exception, another exception occurred:\n",
      "\u001b[1;31mAttributeError\u001b[0m                            Traceback (most recent call last)",
      "\u001b[1;32m~\\AppData\\Roaming\\Python\\Python38\\site-packages\\IPython\\core\\interactiveshell.py\u001b[0m in \u001b[0;36mshowtraceback\u001b[1;34m(self, exc_tuple, filename, tb_offset, exception_only, running_compiled_code)\u001b[0m\n\u001b[0;32m   2044\u001b[0m                         \u001b[1;31m# in the engines. This should return a list of strings.\u001b[0m\u001b[1;33m\u001b[0m\u001b[1;33m\u001b[0m\u001b[1;33m\u001b[0m\u001b[0m\n\u001b[1;32m-> 2045\u001b[1;33m                         \u001b[0mstb\u001b[0m \u001b[1;33m=\u001b[0m \u001b[0mvalue\u001b[0m\u001b[1;33m.\u001b[0m\u001b[0m_render_traceback_\u001b[0m\u001b[1;33m(\u001b[0m\u001b[1;33m)\u001b[0m\u001b[1;33m\u001b[0m\u001b[1;33m\u001b[0m\u001b[0m\n\u001b[0m\u001b[0;32m   2046\u001b[0m                     \u001b[1;32mexcept\u001b[0m \u001b[0mException\u001b[0m\u001b[1;33m:\u001b[0m\u001b[1;33m\u001b[0m\u001b[1;33m\u001b[0m\u001b[0m\n",
      "\u001b[1;31mAttributeError\u001b[0m: 'KeyboardInterrupt' object has no attribute '_render_traceback_'",
      "\nDuring handling of the above exception, another exception occurred:\n",
      "\u001b[1;31mTypeError\u001b[0m                                 Traceback (most recent call last)",
      "    \u001b[1;31m[... skipping hidden 1 frame]\u001b[0m\n",
      "\u001b[1;32m~\\AppData\\Roaming\\Python\\Python38\\site-packages\\IPython\\core\\interactiveshell.py\u001b[0m in \u001b[0;36mshowtraceback\u001b[1;34m(self, exc_tuple, filename, tb_offset, exception_only, running_compiled_code)\u001b[0m\n\u001b[0;32m   2045\u001b[0m                         \u001b[0mstb\u001b[0m \u001b[1;33m=\u001b[0m \u001b[0mvalue\u001b[0m\u001b[1;33m.\u001b[0m\u001b[0m_render_traceback_\u001b[0m\u001b[1;33m(\u001b[0m\u001b[1;33m)\u001b[0m\u001b[1;33m\u001b[0m\u001b[1;33m\u001b[0m\u001b[0m\n\u001b[0;32m   2046\u001b[0m                     \u001b[1;32mexcept\u001b[0m \u001b[0mException\u001b[0m\u001b[1;33m:\u001b[0m\u001b[1;33m\u001b[0m\u001b[1;33m\u001b[0m\u001b[0m\n\u001b[1;32m-> 2047\u001b[1;33m                         stb = self.InteractiveTB.structured_traceback(etype,\n\u001b[0m\u001b[0;32m   2048\u001b[0m                                             value, tb, tb_offset=tb_offset)\n\u001b[0;32m   2049\u001b[0m \u001b[1;33m\u001b[0m\u001b[0m\n",
      "\u001b[1;32m~\\AppData\\Roaming\\Python\\Python38\\site-packages\\IPython\\core\\ultratb.py\u001b[0m in \u001b[0;36mstructured_traceback\u001b[1;34m(self, etype, value, tb, tb_offset, number_of_lines_of_context)\u001b[0m\n\u001b[0;32m   1434\u001b[0m         \u001b[1;32melse\u001b[0m\u001b[1;33m:\u001b[0m\u001b[1;33m\u001b[0m\u001b[1;33m\u001b[0m\u001b[0m\n\u001b[0;32m   1435\u001b[0m             \u001b[0mself\u001b[0m\u001b[1;33m.\u001b[0m\u001b[0mtb\u001b[0m \u001b[1;33m=\u001b[0m \u001b[0mtb\u001b[0m\u001b[1;33m\u001b[0m\u001b[1;33m\u001b[0m\u001b[0m\n\u001b[1;32m-> 1436\u001b[1;33m         return FormattedTB.structured_traceback(\n\u001b[0m\u001b[0;32m   1437\u001b[0m             self, etype, value, tb, tb_offset, number_of_lines_of_context)\n\u001b[0;32m   1438\u001b[0m \u001b[1;33m\u001b[0m\u001b[0m\n",
      "\u001b[1;32m~\\AppData\\Roaming\\Python\\Python38\\site-packages\\IPython\\core\\ultratb.py\u001b[0m in \u001b[0;36mstructured_traceback\u001b[1;34m(self, etype, value, tb, tb_offset, number_of_lines_of_context)\u001b[0m\n\u001b[0;32m   1334\u001b[0m         \u001b[1;32mif\u001b[0m \u001b[0mmode\u001b[0m \u001b[1;32min\u001b[0m \u001b[0mself\u001b[0m\u001b[1;33m.\u001b[0m\u001b[0mverbose_modes\u001b[0m\u001b[1;33m:\u001b[0m\u001b[1;33m\u001b[0m\u001b[1;33m\u001b[0m\u001b[0m\n\u001b[0;32m   1335\u001b[0m             \u001b[1;31m# Verbose modes need a full traceback\u001b[0m\u001b[1;33m\u001b[0m\u001b[1;33m\u001b[0m\u001b[1;33m\u001b[0m\u001b[0m\n\u001b[1;32m-> 1336\u001b[1;33m             return VerboseTB.structured_traceback(\n\u001b[0m\u001b[0;32m   1337\u001b[0m                 \u001b[0mself\u001b[0m\u001b[1;33m,\u001b[0m \u001b[0metype\u001b[0m\u001b[1;33m,\u001b[0m \u001b[0mvalue\u001b[0m\u001b[1;33m,\u001b[0m \u001b[0mtb\u001b[0m\u001b[1;33m,\u001b[0m \u001b[0mtb_offset\u001b[0m\u001b[1;33m,\u001b[0m \u001b[0mnumber_of_lines_of_context\u001b[0m\u001b[1;33m\u001b[0m\u001b[1;33m\u001b[0m\u001b[0m\n\u001b[0;32m   1338\u001b[0m             )\n",
      "\u001b[1;32m~\\AppData\\Roaming\\Python\\Python38\\site-packages\\IPython\\core\\ultratb.py\u001b[0m in \u001b[0;36mstructured_traceback\u001b[1;34m(self, etype, evalue, etb, tb_offset, number_of_lines_of_context)\u001b[0m\n\u001b[0;32m   1191\u001b[0m         \u001b[1;34m\"\"\"Return a nice text document describing the traceback.\"\"\"\u001b[0m\u001b[1;33m\u001b[0m\u001b[1;33m\u001b[0m\u001b[0m\n\u001b[0;32m   1192\u001b[0m \u001b[1;33m\u001b[0m\u001b[0m\n\u001b[1;32m-> 1193\u001b[1;33m         formatted_exception = self.format_exception_as_a_whole(etype, evalue, etb, number_of_lines_of_context,\n\u001b[0m\u001b[0;32m   1194\u001b[0m                                                                tb_offset)\n\u001b[0;32m   1195\u001b[0m \u001b[1;33m\u001b[0m\u001b[0m\n",
      "\u001b[1;32m~\\AppData\\Roaming\\Python\\Python38\\site-packages\\IPython\\core\\ultratb.py\u001b[0m in \u001b[0;36mformat_exception_as_a_whole\u001b[1;34m(self, etype, evalue, etb, number_of_lines_of_context, tb_offset)\u001b[0m\n\u001b[0;32m   1149\u001b[0m \u001b[1;33m\u001b[0m\u001b[0m\n\u001b[0;32m   1150\u001b[0m \u001b[1;33m\u001b[0m\u001b[0m\n\u001b[1;32m-> 1151\u001b[1;33m         \u001b[0mlast_unique\u001b[0m\u001b[1;33m,\u001b[0m \u001b[0mrecursion_repeat\u001b[0m \u001b[1;33m=\u001b[0m \u001b[0mfind_recursion\u001b[0m\u001b[1;33m(\u001b[0m\u001b[0morig_etype\u001b[0m\u001b[1;33m,\u001b[0m \u001b[0mevalue\u001b[0m\u001b[1;33m,\u001b[0m \u001b[0mrecords\u001b[0m\u001b[1;33m)\u001b[0m\u001b[1;33m\u001b[0m\u001b[1;33m\u001b[0m\u001b[0m\n\u001b[0m\u001b[0;32m   1152\u001b[0m \u001b[1;33m\u001b[0m\u001b[0m\n\u001b[0;32m   1153\u001b[0m         \u001b[0mframes\u001b[0m \u001b[1;33m=\u001b[0m \u001b[0mself\u001b[0m\u001b[1;33m.\u001b[0m\u001b[0mformat_records\u001b[0m\u001b[1;33m(\u001b[0m\u001b[0mrecords\u001b[0m\u001b[1;33m,\u001b[0m \u001b[0mlast_unique\u001b[0m\u001b[1;33m,\u001b[0m \u001b[0mrecursion_repeat\u001b[0m\u001b[1;33m)\u001b[0m\u001b[1;33m\u001b[0m\u001b[1;33m\u001b[0m\u001b[0m\n",
      "\u001b[1;32m~\\AppData\\Roaming\\Python\\Python38\\site-packages\\IPython\\core\\ultratb.py\u001b[0m in \u001b[0;36mfind_recursion\u001b[1;34m(etype, value, records)\u001b[0m\n\u001b[0;32m    449\u001b[0m     \u001b[1;31m# first frame (from in to out) that looks different.\u001b[0m\u001b[1;33m\u001b[0m\u001b[1;33m\u001b[0m\u001b[1;33m\u001b[0m\u001b[0m\n\u001b[0;32m    450\u001b[0m     \u001b[1;32mif\u001b[0m \u001b[1;32mnot\u001b[0m \u001b[0mis_recursion_error\u001b[0m\u001b[1;33m(\u001b[0m\u001b[0metype\u001b[0m\u001b[1;33m,\u001b[0m \u001b[0mvalue\u001b[0m\u001b[1;33m,\u001b[0m \u001b[0mrecords\u001b[0m\u001b[1;33m)\u001b[0m\u001b[1;33m:\u001b[0m\u001b[1;33m\u001b[0m\u001b[1;33m\u001b[0m\u001b[0m\n\u001b[1;32m--> 451\u001b[1;33m         \u001b[1;32mreturn\u001b[0m \u001b[0mlen\u001b[0m\u001b[1;33m(\u001b[0m\u001b[0mrecords\u001b[0m\u001b[1;33m)\u001b[0m\u001b[1;33m,\u001b[0m \u001b[1;36m0\u001b[0m\u001b[1;33m\u001b[0m\u001b[1;33m\u001b[0m\u001b[0m\n\u001b[0m\u001b[0;32m    452\u001b[0m \u001b[1;33m\u001b[0m\u001b[0m\n\u001b[0;32m    453\u001b[0m     \u001b[1;31m# Select filename, lineno, func_name to track frames with\u001b[0m\u001b[1;33m\u001b[0m\u001b[1;33m\u001b[0m\u001b[1;33m\u001b[0m\u001b[0m\n",
      "\u001b[1;31mTypeError\u001b[0m: object of type 'NoneType' has no len()"
     ]
    }
   ],
   "source": [
    "\n",
    "# number of topics\n",
    "num_topics = 10\n",
    "# Build LDA model\n",
    "lda_model_title_bow = gensim.models.LdaMulticore(corpus=bow_corpus_title,id2word=id2word_title,\n",
    "                                             num_topics=num_topics,passes=2, workers=2)\n",
    "\n",
    "# Print the Keyword in the 10 topics\n",
    "pprint(lda_model_title_bow.print_topics())\n",
    "doc_lda_title_bow = lda_model_title_bow[bow_corpus_title]"
   ]
  },
  {
   "cell_type": "code",
   "execution_count": null,
   "metadata": {},
   "outputs": [],
   "source": [
    "coherence=gensim.models.CoherenceModel(model=lda_model_title_bow, dictionary=id2word_title,texts = data_words,coherence='c_v')\n",
    "coherence.get_coherence()"
   ]
  },
  {
   "cell_type": "code",
   "execution_count": 18,
   "metadata": {},
   "outputs": [
    {
     "name": "stderr",
     "output_type": "stream",
     "text": [
      "C:\\Users\\Haghbin\\AppData\\Roaming\\Python\\Python38\\site-packages\\ipykernel\\ipkernel.py:283: DeprecationWarning: `should_run_async` will not call `transform_cell` automatically in the future. Please pass the result to `transformed_cell` argument and any exception that happen during thetransform in `preprocessing_exc_tuple` in IPython 7.17 and above.\n",
      "  and should_run_async(code)\n"
     ]
    },
    {
     "name": "stdout",
     "output_type": "stream",
     "text": [
      "[(0,\n",
      "  '0.366*\"mind\" + 0.118*\"models\" + 0.094*\"system\" + 0.064*\"scientific\" + '\n",
      "  '0.047*\"evolutionary\" + 0.037*\"concept\" + 0.036*\"implications\" + '\n",
      "  '0.035*\"agency\" + 0.027*\"empirical\" + 0.022*\"learn\"'),\n",
      " (1,\n",
      "  '0.609*\"cognitive\" + 0.320*\"science\" + 0.015*\"classification\" + '\n",
      "  '0.005*\"diagnosis\" + 0.004*\"errors\" + 0.002*\"diagnostic\" + 0.000*\"religion\" '\n",
      "  '+ 0.000*\"embodied\" + 0.000*\"model\" + 0.000*\"de\"'),\n",
      " (2,\n",
      "  '0.223*\"new\" + 0.221*\"knowledge\" + 0.091*\"perspectives\" + 0.080*\"clinical\" + '\n",
      "  '0.068*\"processes\" + 0.032*\"expertise\" + 0.024*\"uncertainty\" + '\n",
      "  '0.019*\"implicit\" + 0.013*\"unconscious\" + 0.013*\"decisions\"'),\n",
      " (3,\n",
      "  '0.244*\"theory\" + 0.159*\"design\" + 0.159*\"intelligence\" + 0.101*\"experience\" '\n",
      "  '+ 0.091*\"role\" + 0.030*\"tool\" + 0.024*\"comparative\" + 0.017*\"software\" + '\n",
      "  '0.016*\"domain\" + 0.016*\"fuzzy\"'),\n",
      " (4,\n",
      "  '0.187*\"representation\" + 0.178*\"towards\" + 0.163*\"memory\" + '\n",
      "  '0.074*\"evaluation\" + 0.070*\"toward\" + 0.033*\"cross\" + 0.031*\"developmental\" '\n",
      "  '+ 0.021*\"reply\" + 0.009*\"modal\" + 0.007*\"imitation\"'),\n",
      " (5,\n",
      "  '0.242*\"human\" + 0.119*\"social\" + 0.093*\"information\" + 0.054*\"time\" + '\n",
      "  '0.046*\"processing\" + 0.033*\"task\" + 0.030*\"methods\" + 0.029*\"life\" + '\n",
      "  '0.028*\"history\" + 0.023*\"behavioral\"'),\n",
      " (6,\n",
      "  '0.271*\"based\" + 0.102*\"artificial\" + 0.080*\"medical\" + 0.063*\"evolution\" + '\n",
      "  '0.051*\"understanding\" + 0.043*\"practice\" + 0.042*\"culture\" + 0.040*\"ai\" + '\n",
      "  '0.035*\"children\" + 0.028*\"communication\"'),\n",
      " (7,\n",
      "  '0.000*\"gli\" + 0.000*\"neuronists\" + 0.000*\"sperimentare\" + '\n",
      "  '0.000*\"immaginare\" + 0.000*\"imagine\" + 0.000*\"homologia\" + '\n",
      "  '0.000*\"fenomenica\" + 0.000*\"gehuchten\" + 0.000*\"hundred\" + '\n",
      "  '0.000*\"behaviorismus\"'),\n",
      " (8,\n",
      "  '0.296*\"networks\" + 0.034*\"sequential\" + 0.033*\"properties\" + '\n",
      "  '0.030*\"connectionist\" + 0.009*\"interference\" + 0.000*\"deep\" + '\n",
      "  '0.000*\"recognition\" + 0.000*\"object\" + 0.000*\"optical\" + '\n",
      "  '0.000*\"convolutional\"'),\n",
      " (9,\n",
      "  '0.177*\"management\" + 0.114*\"adaptive\" + 0.034*\"box\" + 0.012*\"top\" + '\n",
      "  '0.011*\"leadership\" + 0.000*\"international\" + 0.000*\"conference\" + '\n",
      "  '0.000*\"black\" + 0.000*\"de\" + 0.000*\"business\"'),\n",
      " (10,\n",
      "  '0.188*\"computer\" + 0.142*\"effects\" + 0.113*\"two\" + 0.092*\"meaning\" + '\n",
      "  '0.055*\"therapy\" + 0.044*\"programming\" + 0.037*\"applied\" + 0.014*\"kinds\" + '\n",
      "  '0.000*\"international\" + 0.000*\"interaction\"'),\n",
      " (11,\n",
      "  '0.159*\"language\" + 0.116*\"education\" + 0.096*\"introduction\" + '\n",
      "  '0.080*\"modeling\" + 0.069*\"framework\" + 0.064*\"action\" + 0.055*\"thinking\" + '\n",
      "  '0.041*\"control\" + 0.037*\"dynamics\" + 0.036*\"theories\"'),\n",
      " (12,\n",
      "  '0.362*\"learning\" + 0.192*\"approach\" + 0.077*\"development\" + '\n",
      "  '0.061*\"cultural\" + 0.037*\"first\" + 0.033*\"mathematics\" + 0.032*\"part\" + '\n",
      "  '0.028*\"change\" + 0.018*\"interventions\" + 0.017*\"production\"'),\n",
      " (13,\n",
      "  '0.402*\"cognition\" + 0.077*\"emotion\" + 0.044*\"content\" + 0.043*\"view\" + '\n",
      "  '0.039*\"foundations\" + 0.039*\"structure\" + 0.034*\"disorders\" + '\n",
      "  '0.029*\"speech\" + 0.028*\"search\" + 0.025*\"humans\"'),\n",
      " (14,\n",
      "  '0.150*\"computational\" + 0.132*\"machine\" + 0.127*\"mental\" + 0.120*\"neural\" + '\n",
      "  '0.101*\"concepts\" + 0.060*\"complex\" + 0.027*\"imagery\" + 0.027*\"bias\" + '\n",
      "  '0.019*\"basis\" + 0.019*\"constraints\"'),\n",
      " (15,\n",
      "  '0.261*\"health\" + 0.177*\"systems\" + 0.052*\"metaphor\" + 0.050*\"educational\" + '\n",
      "  '0.047*\"computing\" + 0.047*\"inference\" + 0.043*\"physical\" + 0.040*\"aspects\" '\n",
      "  '+ 0.034*\"survey\" + 0.033*\"active\"'),\n",
      " (16,\n",
      "  '0.247*\"problem\" + 0.138*\"engineering\" + 0.088*\"tools\" + 0.085*\"reading\" + '\n",
      "  '0.076*\"solving\" + 0.026*\"modularity\" + 0.013*\"precis\" + 0.000*\"religion\" + '\n",
      "  '0.000*\"religious\" + 0.000*\"comprehension\"'),\n",
      " (17,\n",
      "  '0.266*\"using\" + 0.172*\"analysis\" + 0.093*\"reasoning\" + 0.072*\"critical\" + '\n",
      "  '0.065*\"architecture\" + 0.061*\"attention\" + 0.037*\"dynamic\" + '\n",
      "  '0.028*\"explanatory\" + 0.024*\"temporal\" + 0.012*\"systematic\"'),\n",
      " (18,\n",
      "  '0.310*\"psychology\" + 0.274*\"research\" + 0.099*\"consciousness\" + '\n",
      "  '0.035*\"impact\" + 0.030*\"school\" + 0.029*\"opportunities\" + '\n",
      "  '0.027*\"generative\" + 0.020*\"possible\" + 0.017*\"skills\" + 0.007*\"folk\"'),\n",
      " (19,\n",
      "  '0.288*\"sciences\" + 0.173*\"study\" + 0.106*\"brain\" + 0.095*\"case\" + '\n",
      "  '0.073*\"perception\" + 0.041*\"behavior\" + 0.035*\"technology\" + 0.021*\"word\" + '\n",
      "  '0.016*\"vision\" + 0.015*\"formal\"')]\n"
     ]
    },
    {
     "ename": "NameError",
     "evalue": "name 'bow_corpus_title2' is not defined",
     "output_type": "error",
     "traceback": [
      "\u001b[1;31m---------------------------------------------------------------------------\u001b[0m",
      "\u001b[1;31mNameError\u001b[0m                                 Traceback (most recent call last)",
      "\u001b[1;32m<ipython-input-18-31d8908f613c>\u001b[0m in \u001b[0;36m<module>\u001b[1;34m\u001b[0m\n\u001b[0;32m     14\u001b[0m \u001b[1;31m# Print the Keyword in the 10 topics\u001b[0m\u001b[1;33m\u001b[0m\u001b[1;33m\u001b[0m\u001b[1;33m\u001b[0m\u001b[0m\n\u001b[0;32m     15\u001b[0m \u001b[0mpprint\u001b[0m\u001b[1;33m(\u001b[0m\u001b[0mlda_model_title_bow2\u001b[0m\u001b[1;33m.\u001b[0m\u001b[0mprint_topics\u001b[0m\u001b[1;33m(\u001b[0m\u001b[1;33m)\u001b[0m\u001b[1;33m)\u001b[0m\u001b[1;33m\u001b[0m\u001b[1;33m\u001b[0m\u001b[0m\n\u001b[1;32m---> 16\u001b[1;33m \u001b[0mdoc_lda_title_bow2\u001b[0m \u001b[1;33m=\u001b[0m \u001b[0mlda_model_title_bow\u001b[0m\u001b[1;33m[\u001b[0m\u001b[0mbow_corpus_title2\u001b[0m\u001b[1;33m]\u001b[0m\u001b[1;33m\u001b[0m\u001b[1;33m\u001b[0m\u001b[0m\n\u001b[0m",
      "\u001b[1;31mNameError\u001b[0m: name 'bow_corpus_title2' is not defined"
     ]
    }
   ],
   "source": [
    "# number of topics\n",
    "num_topics = 10\n",
    "# Build LDA model\n",
    "lda_model_title_bow2 = gensim.models.ldamodel.LdaModel(corpus=bow_corpus_title,id2word=id2word_title,\n",
    "                                             num_topics=num_topics,\n",
    "                                           random_state=100,\n",
    "                                           update_every=1,\n",
    "                                           chunksize=100,\n",
    "                                           passes=10,\n",
    "                                           alpha='auto',\n",
    "                                           per_word_topics=True)\n",
    "\n",
    "\n",
    "# Print the Keyword in the 10 topics\n",
    "pprint(lda_model_title_bow2.print_topics())\n",
    "doc_lda_title_bow2 = lda_model_title_bow[bow_corpus_title2]"
   ]
  },
  {
   "cell_type": "code",
   "execution_count": 19,
   "metadata": {},
   "outputs": [
    {
     "name": "stderr",
     "output_type": "stream",
     "text": [
      "C:\\Users\\Haghbin\\AppData\\Roaming\\Python\\Python38\\site-packages\\ipykernel\\ipkernel.py:283: DeprecationWarning: `should_run_async` will not call `transform_cell` automatically in the future. Please pass the result to `transformed_cell` argument and any exception that happen during thetransform in `preprocessing_exc_tuple` in IPython 7.17 and above.\n",
      "  and should_run_async(code)\n"
     ]
    },
    {
     "data": {
      "text/plain": [
       "0.43897696532307995"
      ]
     },
     "execution_count": 19,
     "metadata": {},
     "output_type": "execute_result"
    }
   ],
   "source": [
    "coherence=gensim.models.CoherenceModel(model=lda_model_title_bow, dictionary=id2word_title,texts = data_words,coherence='c_v')\n",
    "coherence.get_coherence()"
   ]
  },
  {
   "cell_type": "code",
   "execution_count": 31,
   "metadata": {},
   "outputs": [
    {
     "name": "stderr",
     "output_type": "stream",
     "text": [
      "C:\\Users\\Haghbin\\AppData\\Roaming\\Python\\Python38\\site-packages\\ipykernel\\ipkernel.py:283: DeprecationWarning: `should_run_async` will not call `transform_cell` automatically in the future. Please pass the result to `transformed_cell` argument and any exception that happen during thetransform in `preprocessing_exc_tuple` in IPython 7.17 and above.\n",
      "  and should_run_async(code)\n"
     ]
    }
   ],
   "source": [
    "import matplotlib.pyplot as plt\n",
    "def compute_coherence_values(dictionary, corpus, texts, limit, start=2, step=3):\n",
    "    coherence_values = []\n",
    "    model_list = []\n",
    "    for num_topics in range(start, limit, step):\n",
    "        model = gensim.models.LdaMulticore(corpus=corpus,\n",
    "                                           id2word=dictionary,\n",
    "                                           num_topics=num_topics)\n",
    "        model_list.append(model)\n",
    "        coherencemodel = gensim.models.CoherenceModel(model=model, texts=texts, dictionary=dictionary, coherence='c_v')\n",
    "        coherence_values.append(coherencemodel.get_coherence())\n",
    "\n",
    "    return model_list, coherence_values\n"
   ]
  },
  {
   "cell_type": "code",
   "execution_count": 38,
   "metadata": {},
   "outputs": [
    {
     "name": "stderr",
     "output_type": "stream",
     "text": [
      "C:\\Users\\Haghbin\\AppData\\Roaming\\Python\\Python38\\site-packages\\ipykernel\\ipkernel.py:283: DeprecationWarning: `should_run_async` will not call `transform_cell` automatically in the future. Please pass the result to `transformed_cell` argument and any exception that happen during thetransform in `preprocessing_exc_tuple` in IPython 7.17 and above.\n",
      "  and should_run_async(code)\n"
     ]
    },
    {
     "data": {
      "image/png": "[encoded data removed]",
      "text/plain": [
       "<Figure size 432x288 with 1 Axes>"
      ]
     },
     "metadata": {
      "needs_background": "light"
     },
     "output_type": "display_data"
    },
    {
     "name": "stdout",
     "output_type": "stream",
     "text": [
      "Num Topics = 2  has Coherence Value of 0.1319\n",
      "Num Topics = 8  has Coherence Value of 0.1356\n",
      "Num Topics = 14  has Coherence Value of 0.1612\n",
      "Num Topics = 20  has Coherence Value of 0.1697\n",
      "Num Topics = 26  has Coherence Value of 0.1764\n",
      "Num Topics = 32  has Coherence Value of 0.1646\n",
      "Num Topics = 38  has Coherence Value of 0.1791\n"
     ]
    }
   ],
   "source": [
    "limit=40; start=2; step=6;\n",
    "model_list, coherence_values = compute_coherence_values(dictionary=id2word_title, corpus=bow_corpus_title,\n",
    "                                                        texts=data_words,\n",
    "                                                        start=start, limit=limit, step=step)\n",
    "\n",
    "x = range(start, limit, step)\n",
    "plt.plot(x, coherence_values)\n",
    "plt.xlabel(\"Num Topics\")\n",
    "plt.ylabel(\"Coherence score\")\n",
    "plt.legend((\"coherence_values\"), loc='best')\n",
    "plt.show()\n",
    "\n",
    "\n",
    "\n",
    "for m, cv in zip(x, coherence_values):\n",
    "    print(\"Num Topics =\", m, \" has Coherence Value of\", round(cv, 4))\n",
    "    \n"
   ]
  },
  {
   "cell_type": "markdown",
   "metadata": {},
   "source": [
    "# Running LDA using TF-IDF"
   ]
  },
  {
   "cell_type": "code",
   "execution_count": 7,
   "metadata": {},
   "outputs": [
    {
     "name": "stdout",
     "output_type": "stream",
     "text": [
      "[(0,\n",
      "  '0.120*\"using\" + 0.082*\"representation\" + 0.062*\"visual\" + '\n",
      "  '0.049*\"scientific\" + 0.033*\"classification\" + 0.031*\"concept\" + '\n",
      "  '0.030*\"view\" + 0.029*\"communication\" + 0.026*\"dynamic\" + 0.022*\"search\"'),\n",
      " (1,\n",
      "  '0.109*\"language\" + 0.105*\"model\" + 0.070*\"towards\" + 0.064*\"perception\" + '\n",
      "  '0.060*\"development\" + 0.060*\"memory\" + 0.031*\"toward\" + 0.029*\"second\" + '\n",
      "  '0.022*\"paradigm\" + 0.006*\"direct\"'),\n",
      " (2,\n",
      "  '0.058*\"cognitive\" + 0.046*\"science\" + 0.019*\"religion\" + 0.016*\"study\" + '\n",
      "  '0.013*\"self\" + 0.013*\"philosophy\" + 0.012*\"case\" + 0.012*\"computational\" + '\n",
      "  '0.011*\"review\" + 0.010*\"neuroscience\"'),\n",
      " (3,\n",
      "  '0.121*\"design\" + 0.074*\"experience\" + 0.060*\"understanding\" + '\n",
      "  '0.046*\"behavior\" + 0.044*\"implications\" + 0.038*\"children\" + '\n",
      "  '0.017*\"software\" + 0.014*\"phenomena\" + 0.012*\"rules\" + '\n",
      "  '0.010*\"instructional\"'),\n",
      " (4,\n",
      "  '0.148*\"learning\" + 0.108*\"sciences\" + 0.096*\"research\" + 0.070*\"social\" + '\n",
      "  '0.050*\"reasoning\" + 0.029*\"foundations\" + 0.028*\"aspects\" + '\n",
      "  '0.027*\"educational\" + 0.021*\"evaluation\" + 0.018*\"techniques\"'),\n",
      " (5,\n",
      "  '0.188*\"mind\" + 0.086*\"intelligence\" + 0.060*\"information\" + '\n",
      "  '0.044*\"concepts\" + 0.029*\"evolutionary\" + 0.027*\"complex\" + 0.027*\"content\" '\n",
      "  '+ 0.025*\"task\" + 0.019*\"problems\" + 0.018*\"within\"'),\n",
      " (6,\n",
      "  '0.147*\"based\" + 0.070*\"education\" + 0.046*\"cultural\" + 0.045*\"evolution\" + '\n",
      "  '0.044*\"medical\" + 0.040*\"culture\" + 0.034*\"practice\" + 0.028*\"first\" + '\n",
      "  '0.023*\"change\" + 0.021*\"part\"'),\n",
      " (7,\n",
      "  '0.085*\"systems\" + 0.080*\"analysis\" + 0.071*\"making\" + 0.070*\"decision\" + '\n",
      "  '0.053*\"neural\" + 0.044*\"architecture\" + 0.041*\"perspectives\" + '\n",
      "  '0.036*\"critical\" + 0.030*\"processes\" + 0.022*\"tool\"'),\n",
      " (8,\n",
      "  '0.114*\"theory\" + 0.107*\"psychology\" + 0.085*\"models\" + 0.067*\"machine\" + '\n",
      "  '0.065*\"consciousness\" + 0.039*\"attention\" + 0.024*\"structure\" + '\n",
      "  '0.023*\"learn\" + 0.020*\"speech\" + 0.013*\"production\"'),\n",
      " (9,\n",
      "  '0.095*\"knowledge\" + 0.089*\"brain\" + 0.064*\"role\" + 0.052*\"ai\" + '\n",
      "  '0.049*\"thinking\" + 0.038*\"acquisition\" + 0.038*\"methods\" + '\n",
      "  '0.030*\"explanatory\" + 0.029*\"generative\" + 0.020*\"adaptive\"'),\n",
      " (10,\n",
      "  '0.096*\"cognition\" + 0.087*\"embodied\" + 0.087*\"human\" + 0.063*\"introduction\" '\n",
      "  '+ 0.043*\"perspective\" + 0.029*\"problem\" + 0.025*\"natural\" + '\n",
      "  '0.024*\"embodiment\" + 0.023*\"processing\" + 0.022*\"issue\"'),\n",
      " (11,\n",
      "  '0.120*\"approach\" + 0.093*\"artificial\" + 0.063*\"interaction\" + '\n",
      "  '0.048*\"computer\" + 0.043*\"action\" + 0.041*\"networks\" + 0.032*\"theories\" + '\n",
      "  '0.031*\"effects\" + 0.031*\"inference\" + 0.021*\"empirical\"'),\n",
      " (12,\n",
      "  '0.094*\"new\" + 0.080*\"system\" + 0.047*\"agency\" + 0.046*\"metaphor\" + '\n",
      "  '0.042*\"computing\" + 0.038*\"mathematics\" + 0.030*\"reading\" + 0.029*\"active\" '\n",
      "  '+ 0.026*\"impact\" + 0.023*\"skill\"'),\n",
      " (13,\n",
      "  '0.075*\"emotion\" + 0.053*\"technology\" + 0.046*\"history\" + 0.044*\"clinical\" + '\n",
      "  '0.037*\"disorders\" + 0.025*\"school\" + 0.023*\"measurement\" + '\n",
      "  '0.023*\"opportunities\" + 0.022*\"uncertainty\" + 0.017*\"fuzzy\"'),\n",
      " (14,\n",
      "  '0.096*\"health\" + 0.065*\"modeling\" + 0.058*\"framework\" + 0.051*\"approaches\" '\n",
      "  '+ 0.038*\"public\" + 0.036*\"control\" + 0.035*\"two\" + 0.032*\"dynamics\" + '\n",
      "  '0.029*\"survey\" + 0.026*\"services\"')]\n"
     ]
    }
   ],
   "source": [
    "# number of topics\n",
    "num_topics = 10\n",
    "# Build LDA model\n",
    "# lda_model_title_tfidf = gensim.models.LdaMulticore(corpus=corpus_tfidf_title,id2word=id2word_title,\n",
    "#                                              num_topics=num_topics,passes=2, workers=4)\n",
    "\n",
    "lda_model_title_tfidf = gensim.models.ldamodel.LdaModel(corpus=corpus_tfidf_title,\n",
    "                                           id2word=id2word_title,\n",
    "                                           num_topics=15,\n",
    "                                           random_state=100,\n",
    "                                           update_every=1,\n",
    "                                           chunksize=100,\n",
    "                                           passes=10,\n",
    "                                           alpha='auto',\n",
    "                                           per_word_topics=True)\n",
    "# Print the Keyword in the 10 topics\n",
    "pprint(lda_model_title_tfidf.print_topics())\n",
    "doc_lda_title_tfidf = lda_model_title_tfidf[corpus_tfidf_title]"
   ]
  },
  {
   "cell_type": "code",
   "execution_count": 10,
   "metadata": {},
   "outputs": [
    {
     "name": "stderr",
     "output_type": "stream",
     "text": [
      "C:\\Users\\Haghbin\\AppData\\Roaming\\Python\\Python38\\site-packages\\ipykernel\\ipkernel.py:283: DeprecationWarning: `should_run_async` will not call `transform_cell` automatically in the future. Please pass the result to `transformed_cell` argument and any exception that happen during thetransform in `preprocessing_exc_tuple` in IPython 7.17 and above.\n",
      "  and should_run_async(code)\n"
     ]
    },
    {
     "data": {
      "text/plain": [
       "0.5313608748121257"
      ]
     },
     "execution_count": 10,
     "metadata": {},
     "output_type": "execute_result"
    }
   ],
   "source": [
    "coherence=gensim.models.CoherenceModel(model=lda_model_title_tfidf, dictionary=id2word_title,texts = data_words,coherence='c_v')\n",
    "coherence.get_coherence()"
   ]
  },
  {
   "cell_type": "code",
   "execution_count": 36,
   "metadata": {},
   "outputs": [
    {
     "name": "stderr",
     "output_type": "stream",
     "text": [
      "C:\\Users\\Haghbin\\AppData\\Roaming\\Python\\Python38\\site-packages\\ipykernel\\ipkernel.py:283: DeprecationWarning: `should_run_async` will not call `transform_cell` automatically in the future. Please pass the result to `transformed_cell` argument and any exception that happen during thetransform in `preprocessing_exc_tuple` in IPython 7.17 and above.\n",
      "  and should_run_async(code)\n"
     ]
    },
    {
     "data": {
      "image/png": "[encoded data removed]",
      "text/plain": [
       "<Figure size 432x288 with 1 Axes>"
      ]
     },
     "metadata": {
      "needs_background": "light"
     },
     "output_type": "display_data"
    },
    {
     "name": "stdout",
     "output_type": "stream",
     "text": [
      "Num Topics = 2  has Coherence Value of 0.1577\n",
      "Num Topics = 8  has Coherence Value of 0.1549\n",
      "Num Topics = 14  has Coherence Value of 0.1938\n",
      "Num Topics = 20  has Coherence Value of 0.194\n",
      "Num Topics = 26  has Coherence Value of 0.2064\n",
      "Num Topics = 32  has Coherence Value of 0.2955\n",
      "Num Topics = 38  has Coherence Value of 0.4705\n",
      "Num Topics = 44  has Coherence Value of 0.5112\n",
      "Num Topics = 50  has Coherence Value of 0.3881\n",
      "Num Topics = 56  has Coherence Value of 0.46\n",
      "Num Topics = 62  has Coherence Value of 0.4728\n",
      "Num Topics = 68  has Coherence Value of 0.3801\n",
      "Num Topics = 74  has Coherence Value of 0.2972\n",
      "Num Topics = 80  has Coherence Value of 0.3009\n",
      "Num Topics = 86  has Coherence Value of 0.5967\n",
      "Num Topics = 92  has Coherence Value of 0.4247\n",
      "Num Topics = 98  has Coherence Value of 0.5967\n"
     ]
    }
   ],
   "source": [
    "limit=100; start=2; step=6;\n",
    "model_list, coherence_values = compute_coherence_values(dictionary=id2word_title, corpus=corpus_tfidf_title,\n",
    "                                                        texts=data_words,\n",
    "                                                        start=start, limit=limit, step=step)\n",
    "\n",
    "x = range(start, limit, step)\n",
    "plt.plot(x, coherence_values)\n",
    "plt.xlabel(\"Num Topics\")\n",
    "plt.ylabel(\"Coherence score\")\n",
    "plt.legend((\"coherence_values\"), loc='best')\n",
    "plt.show()\n",
    "\n",
    "\n",
    "\n",
    "for m, cv in zip(x, coherence_values):\n",
    "    print(\"Num Topics =\", m, \" has Coherence Value of\", round(cv, 4))\n",
    "    "
   ]
  },
  {
   "cell_type": "markdown",
   "metadata": {},
   "source": [
    "# Analyzing LDA model results"
   ]
  },
  {
   "cell_type": "markdown",
   "metadata": {},
   "source": [
    "### 1. Bag of Words Model"
   ]
  },
  {
   "cell_type": "code",
   "execution_count": 8,
   "metadata": {},
   "outputs": [
    {
     "ename": "NameError",
     "evalue": "name 'lda_model_title_bow' is not defined",
     "output_type": "error",
     "traceback": [
      "\u001b[1;31m---------------------------------------------------------------------------\u001b[0m",
      "\u001b[1;31mNameError\u001b[0m                                 Traceback (most recent call last)",
      "\u001b[1;32m<ipython-input-8-905907fb3964>\u001b[0m in \u001b[0;36m<module>\u001b[1;34m\u001b[0m\n\u001b[0;32m      4\u001b[0m \u001b[1;33m\u001b[0m\u001b[0m\n\u001b[0;32m      5\u001b[0m \u001b[1;31m# feed the LDA model into the pyLDAvis instance\u001b[0m\u001b[1;33m\u001b[0m\u001b[1;33m\u001b[0m\u001b[1;33m\u001b[0m\u001b[0m\n\u001b[1;32m----> 6\u001b[1;33m \u001b[0mlda_viz_title_bow\u001b[0m \u001b[1;33m=\u001b[0m \u001b[0mgensimvis\u001b[0m\u001b[1;33m.\u001b[0m\u001b[0mprepare\u001b[0m\u001b[1;33m(\u001b[0m\u001b[0mlda_model_title_bow\u001b[0m\u001b[1;33m,\u001b[0m \u001b[0mbow_corpus_title\u001b[0m\u001b[1;33m,\u001b[0m \u001b[0mid2word_title\u001b[0m\u001b[1;33m)\u001b[0m\u001b[1;33m\u001b[0m\u001b[1;33m\u001b[0m\u001b[0m\n\u001b[0m\u001b[0;32m      7\u001b[0m \u001b[0mpyLDAvis\u001b[0m\u001b[1;33m.\u001b[0m\u001b[0msave_html\u001b[0m\u001b[1;33m(\u001b[0m\u001b[0mlda_viz_title_bow\u001b[0m\u001b[1;33m,\u001b[0m \u001b[1;34m'./web/bow_title_'\u001b[0m\u001b[1;33m+\u001b[0m \u001b[0mstr\u001b[0m\u001b[1;33m(\u001b[0m\u001b[0mnum_topics\u001b[0m\u001b[1;33m)\u001b[0m \u001b[1;33m+\u001b[0m\u001b[1;34m'.html'\u001b[0m\u001b[1;33m)\u001b[0m\u001b[1;33m\u001b[0m\u001b[1;33m\u001b[0m\u001b[0m\n\u001b[0;32m      8\u001b[0m \u001b[0mlda_viz_title_bow\u001b[0m\u001b[1;33m\u001b[0m\u001b[1;33m\u001b[0m\u001b[0m\n",
      "\u001b[1;31mNameError\u001b[0m: name 'lda_model_title_bow' is not defined"
     ]
    }
   ],
   "source": [
    "import pyLDAvis\n",
    "import pyLDAvis.gensim_models as gensimvis\n",
    "pyLDAvis.enable_notebook()\n",
    "\n",
    "# feed the LDA model into the pyLDAvis instance\n",
    "lda_viz_title_bow = gensimvis.prepare(lda_model_title_bow, bow_corpus_title, id2word_title)\n",
    "pyLDAvis.save_html(lda_viz_title_bow, './web/bow_title_'+ str(num_topics) +'.html')\n",
    "lda_viz_title_bow"
   ]
  },
  {
   "cell_type": "markdown",
   "metadata": {},
   "source": [
    "### 2. TF-IDF Model"
   ]
  },
  {
   "cell_type": "code",
   "execution_count": 9,
   "metadata": {},
   "outputs": [
    {
     "name": "stderr",
     "output_type": "stream",
     "text": [
      "C:\\Users\\Haghbin\\AppData\\Roaming\\Python\\Python38\\site-packages\\ipykernel\\ipkernel.py:283: DeprecationWarning: `should_run_async` will not call `transform_cell` automatically in the future. Please pass the result to `transformed_cell` argument and any exception that happen during thetransform in `preprocessing_exc_tuple` in IPython 7.17 and above.\n",
      "  and should_run_async(code)\n"
     ]
    },
    {
     "data": {
      "text/html": [
       "\n",
       "<link rel=\"stylesheet\" type=\"text/css\" href=\"https://cdn.jsdelivr.net/gh/bmabey/pyLDAvis@3.3.1/pyLDAvis/js/ldavis.v1.0.0.css\">\n",
       "\n",
       "\n",
       "<div id=\"ldavis_el602824242580982244731119120\"></div>\n",
       "<script type=\"text/javascript\">\n",
       "\n",
       "var ldavis_el602824242580982244731119120_data = {\"mdsDat\": {\"x\": [-0.47551895796970467, -0.039039150192399896, 0.014273380757679319, 0.035259844298798006, 0.024797262063373425, 0.03665074335861611, 0.030073713654192116, 0.03628850625211791, 0.041593094956299, 0.04140419521857551, 0.04597351486988278, 0.0434204815862878, 0.055038138449861856, 0.05107190887191095, 0.05871332382450996], \"y\": [0.05623397273049433, -0.3656936606455211, 0.018606031731669397, 0.024009986244328735, 0.022041364937879237, 0.02419891364839028, 0.02321572320319378, 0.024153383725019874, 0.02463295660517037, 0.02468976408704172, 0.0249031332716735, 0.02481273643999658, 0.024776134821955738, 0.024951014236123045, 0.024468544962584937], \"topics\": [1, 2, 3, 4, 5, 6, 7, 8, 9, 10, 11, 12, 13, 14, 15], \"cluster\": [1, 1, 1, 1, 1, 1, 1, 1, 1, 1, 1, 1, 1, 1, 1], \"Freq\": [38.03746364662962, 9.805862805487763, 6.106971800137521, 5.065432393871074, 4.870534430292694, 4.705528114348731, 4.660378933724174, 4.45171968281229, 4.440923173819792, 3.785962693673553, 3.4649062927529553, 3.1545872954369627, 2.852767225019869, 2.7277078022868317, 1.8692537097062027]}, \"tinfo\": {\"Term\": [\"mind\", \"learning\", \"cognition\", \"based\", \"cognitive\", \"embodied\", \"human\", \"sciences\", \"theory\", \"approach\", \"research\", \"psychology\", \"science\", \"language\", \"using\", \"model\", \"introduction\", \"artificial\", \"models\", \"intelligence\", \"design\", \"systems\", \"social\", \"analysis\", \"knowledge\", \"health\", \"brain\", \"representation\", \"making\", \"machine\", \"cognitive\", \"science\", \"religion\", \"study\", \"self\", \"philosophy\", \"case\", \"computational\", \"review\", \"neuroscience\", \"mental\", \"de\", \"teaching\", \"data\", \"reality\", \"body\", \"belief\", \"context\", \"religious\", \"time\", \"la\", \"digital\", \"recognition\", \"challenges\", \"creativity\", \"conference\", \"process\", \"network\", \"representations\", \"applications\", \"cognition\", \"embodied\", \"human\", \"introduction\", \"perspective\", \"problem\", \"natural\", \"embodiment\", \"processing\", \"issue\", \"engineering\", \"construction\", \"volume\", \"life\", \"tools\", \"quantum\", \"physical\", \"meaning\", \"spatial\", \"topics\", \"management\", \"solving\", \"special\", \"word\", \"therapy\", \"text\", \"structural\", \"grammar\", \"applied\", \"priming\", \"learning\", \"sciences\", \"research\", \"social\", \"reasoning\", \"foundations\", \"aspects\", \"educational\", \"evaluation\", \"techniques\", \"behavioral\", \"computation\", \"issues\", \"qualitative\", \"cross\", \"reply\", \"diagnostic\", \"story\", \"linking\", \"tacit\", \"specifications\", \"requirements\", \"grief\", \"mourning\", \"complicated\", \"donne\", \"ecstasy\", \"knit\", \"primacy\", \"knot\", \"theory\", \"psychology\", \"models\", \"machine\", \"consciousness\", \"attention\", \"structure\", \"learn\", \"speech\", \"production\", \"constraints\", \"discourse\", \"frame\", \"properties\", \"faces\", \"connectionist\", \"institutions\", \"folk\", \"phonological\", \"specifications\", \"requirements\", \"grief\", \"mourning\", \"complicated\", \"donne\", \"ecstasy\", \"knit\", \"primacy\", \"knot\", \"john\", \"mind\", \"intelligence\", \"information\", \"concepts\", \"evolutionary\", \"complex\", \"content\", \"task\", \"problems\", \"within\", \"innovation\", \"creative\", \"humans\", \"distributed\", \"physics\", \"comparative\", \"machines\", \"competence\", \"characteristics\", \"grief\", \"mourning\", \"complicated\", \"primacy\", \"donne\", \"ecstasy\", \"knit\", \"knot\", \"john\", \"specifications\", \"requirements\", \"systems\", \"analysis\", \"making\", \"decision\", \"neural\", \"architecture\", \"perspectives\", \"critical\", \"processes\", \"tool\", \"possible\", \"implicit\", \"basis\", \"unconscious\", \"studying\", \"methodologies\", \"expert\", \"neuropsychology\", \"specifications\", \"grief\", \"mourning\", \"requirements\", \"complicated\", \"donne\", \"ecstasy\", \"knit\", \"primacy\", \"knot\", \"john\", \"safety\", \"eeg\", \"law\", \"enactivism\", \"based\", \"education\", \"cultural\", \"evolution\", \"medical\", \"culture\", \"practice\", \"first\", \"change\", \"part\", \"modern\", \"three\", \"interventions\", \"formal\", \"strategies\", \"origins\", \"order\", \"organization\", \"relationships\", \"solution\", \"cumulative\", \"bach\", \"catalyst\", \"quest\", \"institutional\", \"chunk\", \"daniel\", \"concerns\", \"granular\", \"remedy\", \"flipped\", \"landscape\", \"bacteria\", \"enactivist\", \"higher\", \"specifications\", \"neurosciences\", \"grief\", \"mourning\", \"complicated\", \"primacy\", \"donne\", \"ecstasy\", \"knit\", \"knot\", \"requirements\", \"approach\", \"artificial\", \"interaction\", \"computer\", \"action\", \"networks\", \"theories\", \"effects\", \"inference\", \"empirical\", \"programming\", \"interpretation\", \"place\", \"situated\", \"symbolic\", \"discovery\", \"strong\", \"programme\", \"informational\", \"bioethics\", \"holistic\", \"islamic\", \"fields\", \"novice\", \"anthropic\", \"nooj\", \"anticipation\", \"forecasting\", \"leveraging\", \"ongoing\", \"sentiment\", \"skilled\", \"irish\", \"gestures\", \"rhetoric\", \"specifications\", \"expression\", \"requirements\", \"grief\", \"mourning\", \"complicated\", \"primacy\", \"donne\", \"ecstasy\", \"knit\", \"knot\", \"john\", \"affordances\", \"law\", \"enactivism\", \"language\", \"model\", \"towards\", \"perception\", \"development\", \"memory\", \"toward\", \"second\", \"paradigm\", \"direct\", \"modal\", \"imitation\", \"ecology\", \"infancy\", \"specifications\", \"grief\", \"mourning\", \"requirements\", \"complicated\", \"donne\", \"ecstasy\", \"knit\", \"primacy\", \"knot\", \"john\", \"affects\", \"resource\", \"false\", \"overwriting\", \"circularity\", \"convergence\", \"technique\", \"sensory\", \"term\", \"aesthetic\", \"reflections\", \"political\", \"law\", \"post\", \"mechanistic\", \"engagement\", \"eeg\", \"epistemic\", \"th\", \"tracking\", \"enactivism\", \"using\", \"representation\", \"visual\", \"scientific\", \"classification\", \"concept\", \"view\", \"communication\", \"dynamic\", \"search\", \"temporal\", \"domain\", \"diagnosis\", \"errors\", \"consequences\", \"point\", \"alternative\", \"simple\", \"associations\", \"bloom\", \"marketplace\", \"frontoparietal\", \"variations\", \"triangulation\", \"determination\", \"twice\", \"augmentative\", \"proxytypes\", \"windows\", \"reflected\", \"barocco\", \"immediately\", \"nonepileptic\", \"psychogenic\", \"seizures\", \"doctrine\", \"quantized\", \"dyslexia\", \"composition\", \"fragmentary\", \"replies\", \"instructions\", \"discarnate\", \"metalanguage\", \"existence\", \"quest\", \"sensation\", \"selective\", \"signals\", \"types\", \"specifications\", \"gender\", \"grief\", \"mourning\", \"complicated\", \"donne\", \"ecstasy\", \"knit\", \"primacy\", \"knot\", \"requirements\", \"john\", \"knowledge\", \"brain\", \"role\", \"ai\", \"thinking\", \"acquisition\", \"methods\", \"explanatory\", \"generative\", \"adaptive\", \"expertise\", \"skills\", \"experts\", \"top\", \"leadership\", \"trustworthy\", \"intensities\", \"qualify\", \"sociophonetics\", \"attraverso\", \"competenze\", \"cooperativo\", \"potenziare\", \"professionisti\", \"testare\", \"modesty\", \"phases\", \"evaluative\", \"abstracted\", \"anarchy\", \"augment\", \"fits\", \"\\u6982\\u5ff5\\u7684\\u6e10\\u8fdb\\u5f0f\\u8ba4\\u77e5\\u7406\\u8bba\\u4e0e\\u65b9\\u6cd5\", \"transitioning\", \"curation\", \"testbed\", \"vrgym\", \"transcending\", \"encode\", \"intellectualist\", \"variational\", \"perfect\", \"relate\", \"designerly\", \"agreement\", \"misleading\", \"talent\", \"cognizing\", \"wilding\", \"impossibility\", \"quantized\", \"constructive\", \"immersion\", \"comics\", \"economy\", \"imaginative\", \"specifications\", \"energy\", \"styles\", \"grief\", \"mourning\", \"complicated\", \"donne\", \"ecstasy\", \"knit\", \"primacy\", \"knot\", \"teachers\", \"requirements\", \"john\", \"transmission\", \"living\", \"safety\", \"across\", \"mechanistic\", \"political\", \"beliefs\", \"law\", \"eeg\", \"enactivism\", \"th\", \"tracking\", \"health\", \"modeling\", \"framework\", \"approaches\", \"public\", \"control\", \"two\", \"dynamics\", \"survey\", \"services\", \"intentionality\", \"realism\", \"overview\", \"precis\", \"intention\", \"micro\", \"intentional\", \"philippines\", \"affected\", \"nepal\", \"preparedness\", \"focusing\", \"observational\", \"paediatrics\", \"preterm\", \"mentalese\", \"reproductive\", \"tagged\", \"burnout\", \"doctor\", \"supercomputing\", \"oncologist\", \"migraine\", \"forcing\", \"nssi\", \"mythical\", \"workshops\", \"sectional\", \"mitigate\", \"intimate\", \"stigma\", \"randomised\", \"partner\", \"update\", \"fitch\", \"song\", \"managerial\", \"substance\", \"abuse\", \"adolescents\", \"roadblocks\", \"systemic\", \"perceptions\", \"following\", \"attachment\", \"views\", \"psychodynamics\", \"brief\", \"specifications\", \"grief\", \"mourning\", \"complicated\", \"donne\", \"ecstasy\", \"knit\", \"primacy\", \"knot\", \"requirements\", \"john\", \"emerging\", \"trial\", \"novel\", \"care\", \"eeg\", \"th\", \"law\", \"enactivism\", \"design\", \"experience\", \"understanding\", \"behavior\", \"implications\", \"children\", \"software\", \"phenomena\", \"rules\", \"instructional\", \"unified\", \"connectionism\", \"appeal\", \"advancement\", \"bindings\", \"selectionism\", \"aufgabe\", \"besteigung\", \"bewaltigung\", \"infolge\", \"philosophischen\", \"themen\", \"thesen\", \"verbund\", \"wandels\", \"wissensordnung\", \"planned\", \"edison\", \"fifteen\", \"arbeiten\", \"hypersimulation\", \"gears\", \"realm\", \"festival\", \"designerly\", \"ke\", \"neurocultural\", \"range\", \"vitality\", \"grasp\", \"ulterior\", \"cognizing\", \"unfolds\", \"multimodality\", \"mumbai\", \"meetings\", \"betweens\", \"mortals\", \"span\", \"formalizations\", \"steam\", \"sonic\", \"microeconomics\", \"specifying\", \"\\u4e25\\u8083\\u6e38\\u620f\\u4e2d\\u865a\\u62df\\u89d2\\u8272\\u884c\\u4e3a\\u5efa\\u6a21\\u7efc\\u8ff0\", \"ubiquity\", \"psychodynamics\", \"overlooked\", \"openness\", \"hospital\", \"socioenactive\", \"intersubjective\", \"flipped\", \"shm\", \"specifications\", \"grief\", \"mourning\", \"complicated\", \"donne\", \"ecstasy\", \"knit\", \"primacy\", \"knot\", \"requirements\", \"wittgenstein\", \"john\", \"core\", \"algorithms\", \"serious\", \"aesthetic\", \"smart\", \"heuristic\", \"teachers\", \"considerations\", \"editorial\", \"person\", \"post\", \"eeg\", \"mechanistic\", \"law\", \"political\", \"reflections\", \"th\", \"epistemic\", \"beliefs\", \"enactivism\", \"tracking\", \"contemporary\", \"turn\", \"new\", \"system\", \"agency\", \"metaphor\", \"computing\", \"mathematics\", \"reading\", \"active\", \"impact\", \"skill\", \"developmental\", \"modularity\", \"conception\", \"chess\", \"aufgabe\", \"besteigung\", \"bewaltigung\", \"infolge\", \"philosophischen\", \"themen\", \"thesen\", \"verbund\", \"wandels\", \"wissensordnung\", \"arbeiten\", \"fuer\", \"informatik\", \"kognitiver\", \"phaenomene\", \"stellenwert\", \"zappiens\", \"overblown\", \"teleimmersive\", \"chase\", \"ecologically\", \"sprouts\", \"kurland\", \"pea\", \"externalization\", \"postmodernism\", \"hypersensitive\", \"threatening\", \"zhuzi\", \"recollection\", \"libidinal\", \"jungand\", \"pauli\", \"mathematician\", \"ebrain\", \"denotational\", \"isolability\", \"savvy\", \"hop\", \"temporally\", \"personalisation\", \"immaterial\", \"wastell\", \"faculties\", \"bioelectricity\", \"freudian\", \"schopenhauer\", \"foster\", \"pid\", \"skulls\", \"ether\", \"landscape\", \"visible\", \"products\", \"last\", \"individuation\", \"analytic\", \"bidirectional\", \"illustration\", \"characterizing\", \"evil\", \"persistence\", \"genesis\", \"boundary\", \"specifications\", \"grief\", \"mourning\", \"complicated\", \"donne\", \"ecstasy\", \"knit\", \"primacy\", \"knot\", \"minimal\", \"requirements\", \"john\", \"significance\", \"emerging\", \"platform\", \"considerations\", \"editorial\", \"feature\", \"novel\", \"political\", \"law\", \"eeg\", \"th\", \"epistemic\", \"tracking\", \"enactivism\", \"emotion\", \"technology\", \"history\", \"clinical\", \"disorders\", \"school\", \"measurement\", \"opportunities\", \"uncertainty\", \"fuzzy\", \"decisions\", \"organizational\", \"sets\", \"computers\", \"drug\", \"tradeoffs\", \"dempster\", \"shafer\", \"aufgabe\", \"besteigung\", \"bewaltigung\", \"infolge\", \"philosophischen\", \"themen\", \"thesen\", \"verbund\", \"wandels\", \"wissensordnung\", \"klassifikation\", \"arbeiten\", \"senile\", \"atanassov\", \"intuitionistic\", \"destroy\", \"neighboring\", \"injured\", \"truly\", \"blurring\", \"inwearable\", \"wearability\", \"anthills\", \"quasimetric\", \"processors\", \"generalisations\", \"mindblind\", \"applicazioni\", \"criticita\", \"seeding\", \"subband\", \"stationary\", \"nexus\", \"cnn\", \"carroll\", \"horror\", \"sometimes\", \"wavelet\", \"suggestibility\", \"pholological\", \"xr\", \"rough\", \"grading\", \"interoceptive\", \"textbooks\", \"board\", \"phd\", \"alignment\", \"throughout\", \"ecologies\", \"conceptualizing\", \"almost\", \"wonder\", \"entrepreneurial\", \"specifications\", \"microeconomics\", \"grief\", \"mourning\", \"complicated\", \"donne\", \"ecstasy\", \"knit\", \"primacy\", \"knot\", \"requirements\", \"primary\", \"treatment\", \"john\", \"metacognitive\", \"core\", \"teachers\", \"spaces\", \"trial\", \"smart\", \"editorial\", \"mechanistic\", \"eeg\", \"law\", \"political\", \"th\", \"epistemic\", \"enactivism\", \"tracking\"], \"Freq\": [814.0, 805.0, 838.0, 611.0, 1952.0, 761.0, 755.0, 589.0, 515.0, 477.0, 524.0, 482.0, 1550.0, 432.0, 405.0, 416.0, 548.0, 370.0, 384.0, 372.0, 308.0, 358.0, 382.0, 336.0, 292.0, 271.0, 275.0, 277.0, 297.0, 302.0, 1950.547896065964, 1548.7410338928103, 628.1634173382297, 555.0630459726111, 447.9222279969297, 446.1639535994615, 408.25868315943956, 407.26408367612083, 378.59589041193067, 351.555592628601, 314.6220117391702, 297.32422578763124, 294.8033464453991, 290.61617860317506, 285.5079559380505, 284.08631279111415, 269.8003333116846, 268.51778618488015, 263.67030561812726, 254.50033755155596, 252.9058156746208, 248.8503170062049, 246.3508527865293, 243.06319876589808, 242.55458567147005, 240.52474360302256, 237.4640489708962, 232.63541874714304, 231.09494605902614, 229.30019829338303, 836.9121043929875, 759.9270273111339, 753.9445099863723, 546.5762122688928, 378.81890566299285, 249.49726740333304, 214.0222078484999, 212.27174163350125, 198.85040813835687, 190.35380634680314, 179.07588696249775, 177.61371450475775, 149.1353763429533, 137.6943425314911, 124.74251670783005, 122.44518799876077, 120.4528003564362, 119.59724060444543, 118.93776538962662, 110.49038349410196, 109.66821571377027, 102.89632223876585, 99.65170320833042, 94.59793863077533, 90.51098358834047, 73.32664422965293, 72.34197047645854, 71.88433983279563, 64.15529907686097, 51.3569173134428, 804.2658359835802, 587.7289889962063, 522.8840010573972, 380.6798986033183, 273.0133699903171, 157.07052403759815, 151.6731546730335, 146.63759523061904, 112.09846521783317, 98.15440883677238, 95.80686318492705, 84.41967776048301, 74.3724521743812, 63.3207733282148, 60.556158501062505, 39.29727153318524, 23.299119022391725, 11.900781455081246, 7.232466536094906, 4.248801594121489, 0.14928605571835737, 0.14731605222780617, 0.14027883961064624, 0.14027883961064624, 0.13900386154609393, 0.13826372869265197, 0.13826372869265197, 0.13826372869265197, 0.13749701097604408, 0.13729775278857306, 513.8076588030573, 480.7119699851672, 383.06266995323745, 301.33547691990753, 290.5154565503125, 174.82294922661936, 107.26885605392907, 105.31473417762274, 90.37542951942221, 58.397457613106184, 58.059741627702, 39.028351002485266, 27.230982624624765, 25.03762028844665, 21.8166517203267, 18.32011260761114, 17.355128520496493, 16.428368761766425, 2.9245034577679547, 0.15314100227531416, 0.15094798371607254, 0.1438345840867177, 0.1438345840867177, 0.14251407139230787, 0.1417510011855946, 0.1417510011855946, 0.1417510011855946, 0.14094638308055601, 0.14074838393546352, 0.1391662406220484, 812.4903941279358, 371.2366154913944, 261.43411889354974, 190.4624499679114, 127.03895872607345, 117.84340067784781, 117.29971648051666, 106.92467432247807, 84.09145314869507, 79.85971522032033, 76.77296031894488, 74.13292231090296, 69.57331529770974, 67.47059478402703, 62.880629074510765, 60.30048642911099, 57.21424731126745, 45.8202788155147, 29.34566925949402, 0.1227235121904172, 0.1227235121904172, 0.1216288101245844, 0.12032087198982214, 0.12093161774242654, 0.12093161774242654, 0.12093161774242654, 0.12008764553132005, 0.11870780495595323, 0.12948181430169267, 0.12759344654843377, 356.4758405894826, 334.9663080655273, 296.0795996917284, 291.78915430701267, 221.68813212461546, 182.6541421289792, 171.49551153391283, 150.14995400233946, 124.96453972727217, 90.40638184800464, 65.12229059924545, 48.79601459195984, 42.699395566679456, 33.20338652601702, 31.523002960626815, 30.35521837990942, 23.30280461834818, 13.715833642957573, 0.14307544685392107, 0.1348352728187938, 0.1348352728187938, 0.14092934579362265, 0.1336667210651909, 0.13299025913479456, 0.13299025913479456, 0.13299025913479456, 0.132260891351469, 0.13208140075586017, 0.13061445330056817, 0.12174997043151496, 0.1235705005216033, 0.12446916247214188, 0.1249132203503996, 610.3777587139232, 291.7511209291194, 189.43666855084166, 187.79001128954542, 181.85943561785265, 164.09281685638402, 142.42249699179013, 116.50734770253285, 93.37051612718754, 84.95094601160089, 84.64456516879892, 76.2809565386069, 68.66313861214513, 66.87612652162639, 59.30547910724385, 54.6319046603322, 52.343082221106016, 47.63673826445419, 27.102823279083278, 10.705746587515595, 0.10909855733686256, 0.10914547325290813, 0.1089755517874744, 0.10936916352100085, 0.1091071949862533, 0.10899670536824037, 0.1093054919206533, 0.10877598970477655, 0.1091387860404766, 0.1089172269448142, 0.10928657494134246, 0.10955321247576068, 0.10939805860444657, 0.10962909125105363, 0.11062188625521921, 0.12905396735831642, 0.1110925967284687, 0.12216327690887555, 0.12216327690887555, 0.1211866727906647, 0.12002588416609067, 0.12062100841927417, 0.12062100841927417, 0.12062100841927417, 0.11986625709186628, 0.1272173335007688, 475.9382217159902, 369.41472237455383, 248.29098726044208, 188.73206090750733, 171.56103511367482, 161.72275911027717, 127.21580959820591, 122.35451772356694, 121.05326346027475, 83.21378626686703, 61.84192949798065, 57.178491561050585, 52.95651246033914, 50.9840169833205, 32.31156634427954, 30.22726608207735, 14.656448463000757, 11.482109093058227, 0.11328833867479046, 0.11311146551373885, 0.11219714607896158, 0.11266021883272506, 0.11312734151286205, 0.11238773000318891, 0.11213613102478721, 0.11213613102478721, 0.11220223905919685, 0.11227317391527013, 0.1127486913806254, 0.11234289307408388, 0.11309223016183338, 0.11299104674376961, 0.1129321969255427, 0.11278768001462978, 0.11302471939981656, 0.13327788326358547, 0.11438760954294165, 0.13155235566337017, 0.12601650195189137, 0.12601650195189137, 0.12498576331919402, 0.1237540677714512, 0.12439048888356109, 0.12439048888356109, 0.12439048888356109, 0.12359474668917649, 0.12232964464395833, 0.11530430282443874, 0.11696871466183091, 0.11744992216583885, 431.41606102324874, 415.0481199080801, 276.2089512065687, 252.11908302794782, 237.5227470860879, 237.01095591462385, 120.97335221041807, 115.07785564089103, 86.18243531454628, 24.301400519896156, 23.66692841638261, 17.34370286028925, 12.517555394597553, 4.037085557107348, 0.14500105163704605, 0.13660425096769876, 0.13660425096769876, 0.1427798123329869, 0.1354097004808058, 0.13472334201369363, 0.13472334201369363, 0.13472334201369363, 0.13397403542043387, 0.13379549581959588, 0.1322941557420668, 0.12094075937572336, 0.12241968153874207, 0.1222731757312377, 0.12062377982394619, 0.12083406617695891, 0.12228963754170082, 0.1220909189473919, 0.1224534949872609, 0.12233590857651606, 0.12286314577719008, 0.12379248458531412, 0.12424760269481364, 0.12584477146324263, 0.12308214382937555, 0.1241554337786897, 0.12416515012191859, 0.12483145876408137, 0.12474412649148497, 0.1251240541694097, 0.12552721782914766, 0.12617941839835034, 404.08873038851215, 276.348750832905, 208.08921785376913, 163.6371088203848, 111.61262117468812, 105.6194883220399, 100.20929958613205, 98.0309159475248, 88.11259054325963, 73.13700645143348, 59.023419140688155, 47.18111504169715, 46.70180473854268, 36.778765289380964, 36.71539349114394, 33.3975923123587, 20.124386085796512, 15.935899248493246, 7.175267313615417, 0.10202070187711941, 0.10214147725391994, 0.10192579819865186, 0.10183842539288421, 0.10173433294853912, 0.10184576661728703, 0.10171098173725111, 0.10170523111146891, 0.10170927490257746, 0.10171466458482654, 0.10170660759104444, 0.10204604745437018, 0.1018412639996533, 0.1018412639996533, 0.1018412639996533, 0.1018412639996533, 0.10221863352239366, 0.10197714394566264, 0.10210125957956645, 0.10185783681374268, 0.10191411341647735, 0.1022268067522288, 0.10206621135072995, 0.1020824354566602, 0.10203238665929391, 0.1020699920812974, 0.1023212821926062, 0.10241832706152457, 0.10245646472229726, 0.10310085292962946, 0.1028387345123265, 0.11913329172609469, 0.10288965813893411, 0.11324861518628408, 0.11324861518628408, 0.11241275561115213, 0.11193033928489432, 0.11193033928489432, 0.11193033928489432, 0.11140294572379518, 0.11127585689400823, 0.11738979987191915, 0.11012168182876968, 290.9948338287114, 273.5785593279626, 197.1717094576576, 161.53140008488236, 151.98116017758946, 116.56084783062627, 116.45911669266084, 92.36841611096001, 87.97122183091618, 61.849940445061655, 55.2872500577418, 39.10626011824698, 8.423681789725078, 7.752662767976657, 7.490344895045347, 0.100384760195074, 0.10026570526598173, 0.10026570526598173, 0.10017873201219508, 0.10016519388114987, 0.10016519388114987, 0.10016519388114987, 0.10016519388114987, 0.10016519388114987, 0.10016519388114987, 0.10015284271610203, 0.10015386171521296, 0.10015036800397549, 0.10014185768173037, 0.10014185768173037, 0.10044871078762911, 0.10031635288113262, 0.10033367586601842, 0.10051431865346352, 0.10049453215424363, 0.10030206449799477, 0.10030206449799477, 0.10040559928678211, 0.10035313762925792, 0.10035475011136752, 0.10071902549683596, 0.10027695904737166, 0.10037739204765651, 0.10048252812076103, 0.10047442091904331, 0.10058723867775331, 0.10038118809928953, 0.10049697327299288, 0.10042504985222919, 0.10059176258589413, 0.10039041508025003, 0.10082210117613379, 0.10068794042505642, 0.10072526266721825, 0.10079695093434096, 0.10079581995730576, 0.11682619887198809, 0.10160006780505453, 0.10110272905216663, 0.11118815517576527, 0.11118815517576527, 0.11038606850195508, 0.10992521215679693, 0.10992521215679693, 0.10992521215679693, 0.10941616051302958, 0.10929921076891373, 0.10221125451355575, 0.11510448229725315, 0.10821310328796505, 0.10141220244149349, 0.10134570995005726, 0.10216067408515943, 0.10198595492990861, 0.10289438703840555, 0.10291458785594527, 0.1029868472104818, 0.10381661482717351, 0.10324973778330905, 0.10403783841437694, 0.10340799618369101, 0.10362717057488015, 270.08594203512405, 182.1614426897417, 162.6131859100881, 144.25447860569255, 106.8128383483743, 100.46255083713875, 99.2915107542212, 88.83919530595279, 81.13384384632737, 73.24086164302675, 64.96721024496887, 63.961940405128075, 54.767230116645536, 22.573354924012403, 20.216755898957036, 20.005137588304734, 16.885518094862412, 0.08744596821443253, 0.08744119699575338, 0.08744119699575338, 0.08744119699575338, 0.08744965877247067, 0.08743970853864408, 0.08743970853864408, 0.08743970853864408, 0.08742280537503291, 0.08743898469991283, 0.08741215169229849, 0.08744219609710073, 0.08744219609710073, 0.08746149506496317, 0.08744219609710073, 0.08749246720673079, 0.08750018475489343, 0.08745758021886746, 0.08748588129376769, 0.08749850259446168, 0.0875811425487633, 0.08751673109659483, 0.08751329541134938, 0.08749986871263049, 0.0875441452141765, 0.08751244923367764, 0.08777658920110928, 0.08757935843921448, 0.08781510557754052, 0.08769376573839692, 0.08767937052306582, 0.08772503353260407, 0.0877755289302917, 0.08775730042815855, 0.08765401577764907, 0.0877686677547125, 0.08765547365002326, 0.08791143729826542, 0.08791092755268004, 0.0879150564919216, 0.08826315155726516, 0.09991068525949752, 0.09569265268451586, 0.09569265268451586, 0.09509333460487418, 0.09474760475904678, 0.09474760475904678, 0.09474760475904678, 0.09437399182969917, 0.09428161573471681, 0.09851654127839791, 0.09334624278045822, 0.08825214105262097, 0.08875600417394461, 0.08913647827887142, 0.08914157573472521, 0.08960263042178872, 0.08978047046161572, 0.08986929872732384, 0.09004431477660783, 306.80097592059525, 187.47241847866596, 151.92564212740714, 115.73443912062122, 110.83736298454725, 96.71529944899483, 42.631240099096814, 36.346484718331645, 29.266106461779593, 26.290903487327427, 24.816838877785113, 16.060198415810987, 0.09867830182196863, 0.09867819118799749, 0.09867786850558169, 0.09867819118799749, 0.09867766567663462, 0.09867766567663462, 0.09867766567663462, 0.09867766567663462, 0.09867766567663462, 0.09867766567663462, 0.09867766567663462, 0.09867766567663462, 0.09867766567663462, 0.09867766567663462, 0.09867828338297344, 0.09867795148106004, 0.09867808055402637, 0.09867773021311778, 0.09867813587101193, 0.09867803445653839, 0.0989732151110157, 0.09886320806572028, 0.09902848599909364, 0.09882452305381452, 0.09891783358896662, 0.09890557165716618, 0.09879327817646738, 0.09876141559278141, 0.09869060063175944, 0.09903724452180825, 0.09889806698612441, 0.09880210123566514, 0.09880210123566514, 0.09870036407971183, 0.09881957218360637, 0.09881957218360637, 0.09876396939361504, 0.09870161793138466, 0.09876983299408502, 0.09881144058672818, 0.09924452648622131, 0.09913552436616369, 0.09892708074505373, 0.09903339077181382, 0.09932133412067959, 0.09904892562526024, 0.09900188774853404, 0.09907062832259728, 0.09891371247354197, 0.09936886063077831, 0.09917441220701652, 0.09913352373518572, 0.11441297865925529, 0.10910867901082781, 0.10910867901082781, 0.10835150011240158, 0.10791891206577854, 0.10791891206577854, 0.10791891206577854, 0.10742604694388384, 0.10731721999428051, 0.11283622330268449, 0.09974021277437987, 0.10618372886254697, 0.09992722106358304, 0.09977232428450089, 0.09973985321397369, 0.1003800643464208, 0.10008639568954895, 0.1000160693618995, 0.10046484684629815, 0.10050752390066225, 0.10059531195675536, 0.10039995080273174, 0.10046449650538956, 0.10148562961994115, 0.10104968567619377, 0.10192196078258747, 0.10106146819411932, 0.1008138417082335, 0.10157046743680406, 0.10132874142937862, 0.10107088130116311, 0.10200902971786822, 0.1016708585461086, 0.10126550489537918, 0.10127413434512747, 227.01354732075498, 194.26143783797377, 114.3725708999556, 111.59454184779204, 101.8813426765769, 92.8853579400703, 72.21020958634963, 71.36977794104148, 63.197777834626, 56.668579087069084, 42.8942941118224, 32.53218481566464, 19.700956076422404, 5.83925006996312, 0.086442969920532, 0.086442969920532, 0.086442969920532, 0.086442969920532, 0.086442969920532, 0.086442969920532, 0.086442969920532, 0.086442969920532, 0.086442969920532, 0.086442969920532, 0.08644303162786905, 0.08644303162786905, 0.08644303162786905, 0.08644303162786905, 0.08644303162786905, 0.08644303162786905, 0.08646146449097601, 0.08644799466083376, 0.08644724535745543, 0.08644526190733631, 0.08644871751821051, 0.08644474180263842, 0.08644332253388652, 0.08644332253388652, 0.0864435429172331, 0.08644375448524579, 0.08652553433749029, 0.08652553433749029, 0.08647912160470304, 0.08645503811259007, 0.08644416880593735, 0.08644668999142208, 0.08644668999142208, 0.08646609254125394, 0.0864517235470577, 0.08644848831953007, 0.08677576640451759, 0.0867890775586503, 0.08657270518898973, 0.08653749674554201, 0.08656250584771055, 0.08657821477265393, 0.08652388587005796, 0.08650629046366796, 0.08655252688977795, 0.08658986864402045, 0.08652553433749029, 0.08689154699947062, 0.08661406673547363, 0.0865701575575034, 0.0867085759298159, 0.0870092493372057, 0.08690506972161603, 0.0867172325876691, 0.08671198746402077, 0.08663837942626702, 0.08708630417049978, 0.08681433349016701, 0.08676784141937499, 0.08673798388358195, 0.08674301743921757, 0.08672270690999785, 0.08671378579212877, 0.08685903604818489, 0.09837745980990598, 0.09435333042424313, 0.09435333042424313, 0.0937793464057734, 0.09345108100339326, 0.09345108100339326, 0.09345108100339326, 0.09307789265964869, 0.0929959453160608, 0.08773078441386971, 0.09697683548912699, 0.09211760308064665, 0.08724452178266796, 0.08724276753122928, 0.08759996485934689, 0.08783429406408583, 0.08791476924691864, 0.08795109723776692, 0.08806824420946867, 0.08824433931871047, 0.08882202577740253, 0.0884797087328452, 0.08864953613971059, 0.08846967688290942, 0.08869402712971576, 0.08890098472281095, 124.42722970918106, 88.44176801089309, 76.392346494029, 72.79350525253614, 61.919904108051796, 41.62465854392164, 37.9501224509119, 37.92761473079224, 35.96926677970251, 29.03464346892739, 19.034404962171045, 13.148156736752128, 12.571831361020985, 4.716031585611218, 4.105357347392262, 0.07110964441130692, 0.07110957796025573, 0.07110957796025573, 0.07110934840207893, 0.07110934840207893, 0.07110934840207893, 0.07110934840207893, 0.07110934840207893, 0.07110934840207893, 0.07110934840207893, 0.07110934840207893, 0.07110934840207893, 0.07110934840207893, 0.07110942693513941, 0.07110937256609753, 0.0711096202472883, 0.0711146040761269, 0.0711146040761269, 0.07111413891876862, 0.07110960816527899, 0.0711095960832697, 0.07117968986025656, 0.07111047806994901, 0.07111186750101915, 0.07111186750101915, 0.07111012165067448, 0.07112582222176721, 0.07112095317201703, 0.07113838147044046, 0.07111317839902882, 0.0711297549157962, 0.0711297549157962, 0.07124906475768976, 0.07121069833713958, 0.07120390824790979, 0.07112320042574788, 0.07123677735422589, 0.07126844430061606, 0.07125696035077102, 0.07125558300171017, 0.07120543662208696, 0.07120973781739978, 0.07115778517738537, 0.07121228712136328, 0.071268323480523, 0.07125273164751403, 0.07124771761365217, 0.07128231444729898, 0.07129370778207422, 0.0712767144359858, 0.07130781956894325, 0.07129084434586878, 0.07130766250282228, 0.07138044452687967, 0.071289291807673, 0.07149649826726534, 0.07129735050787989, 0.07844784003425316, 0.0713802874607587, 0.07597535348592112, 0.07597535348592112, 0.07562166474550677, 0.07542034222444631, 0.07542034222444631, 0.07542034222444631, 0.07518335965292013, 0.07513277227995727, 0.07745425183498234, 0.07145974479495747, 0.07159958197066135, 0.0745242014712304, 0.07158786846263951, 0.07168166714188412, 0.07192321067192319, 0.07180305508937825, 0.07184476218550143, 0.07175355509725288, 0.0719597406270589, 0.07215644177955995, 0.07230608350581538, 0.07246002642738365, 0.07213339534680936, 0.07234824971829219, 0.07224119707483925, 0.07244154095314596, 0.07234867862962255], \"Total\": [814.0, 805.0, 838.0, 611.0, 1952.0, 761.0, 755.0, 589.0, 515.0, 477.0, 524.0, 482.0, 1550.0, 432.0, 405.0, 416.0, 548.0, 370.0, 384.0, 372.0, 308.0, 358.0, 382.0, 336.0, 292.0, 271.0, 275.0, 277.0, 297.0, 302.0, 1952.046476243, 1550.2396139838902, 629.6619976552379, 556.5616263880929, 449.4208089433499, 447.6625339738142, 409.75726417236535, 408.7626636733552, 380.0944711683786, 353.0541726044426, 316.1205922375667, 298.82280680055703, 296.3019272763364, 292.11475867662443, 287.0065375410209, 285.58489313884456, 271.29891423923124, 270.0163669301303, 265.1688860484788, 255.99891779679282, 254.4043965811461, 250.34889837721715, 247.84943332645605, 244.5617793515513, 244.05316671598143, 242.02332560632544, 238.9626289309973, 234.13399923806358, 232.5935265868709, 230.79877871451507, 838.4284999724551, 761.4434246592905, 755.4609062175557, 548.0926078715967, 380.3353014561002, 251.01366246347862, 215.53860385488613, 213.78813755165362, 200.36680315789548, 191.8702024384391, 180.5922822865916, 179.13011185187605, 150.65177317823571, 139.21073809976076, 126.25891392389026, 123.96158303369548, 121.96919736142291, 121.11363565640582, 120.45416052070782, 112.00677958573796, 111.18461168288337, 104.4127174463981, 101.16809912036507, 96.114334050672, 92.0273807211388, 74.84304049248614, 73.85836668613256, 73.40073585556273, 65.67169561829773, 52.873314919995586, 805.7978336689359, 589.2609863910683, 524.4159985649353, 382.2118958436048, 274.54536744236725, 158.60252200397045, 153.20515366132204, 148.16959405479972, 113.63046256019442, 99.68640743746674, 97.33886048824087, 85.95167346553447, 75.90444879721677, 64.85277149118335, 62.088154771260356, 40.82926787365721, 24.831116224037608, 13.432778725976908, 8.764462401424339, 5.780795743493408, 1.9854924372428269, 1.9595142760224447, 1.8744201286381101, 1.8744201286381101, 1.8585461582902778, 1.8497429432938843, 1.8497429432938843, 1.8497429432938843, 1.8396611263681026, 1.8375213065396652, 515.3367009879964, 482.2410116647847, 384.5917121050919, 302.8645208615309, 292.0444987352516, 176.35199182863502, 108.79789773558707, 106.84377825806676, 91.90447104173695, 59.926501681560985, 59.588784988296766, 40.557391994549214, 28.76002489492504, 26.566662733336827, 23.34569256301333, 19.84915340711713, 18.88417149903512, 17.957408632661103, 4.453542355421016, 1.9854924372428269, 1.9595142760224447, 1.8744201286381101, 1.8744201286381101, 1.8585461582902778, 1.8497429432938843, 1.8497429432938843, 1.8497429432938843, 1.8396611263681026, 1.8375213065396652, 1.8185325489385538, 814.0374356839121, 372.7836552147188, 262.98115723115075, 192.00948880281314, 128.58599714253344, 119.39043926881985, 118.8467550275425, 108.47171391163091, 85.63849183375478, 81.40675393174205, 78.32000000126004, 75.67996056582807, 71.12035387347458, 69.01763275422664, 64.42766821560801, 61.84752492363925, 58.761285196515175, 47.3673206705985, 30.89271028753608, 1.8744201286381101, 1.8744201286381101, 1.8585461582902778, 1.8396611263681026, 1.8497429432938843, 1.8497429432938843, 1.8497429432938843, 1.8375213065396652, 1.8185325489385538, 1.9854924372428269, 1.9595142760224447, 358.0117905006135, 336.50225806391694, 297.615549629951, 293.32510414830483, 223.22408203880482, 184.19009282630898, 173.03146142080308, 151.68590473613773, 126.50048920780876, 91.94233262608056, 66.65824331346921, 50.331963369797556, 44.2353454223585, 34.73933385729743, 33.0589519543623, 31.891168525949745, 24.83875287984964, 15.251781536497388, 1.9854924372428269, 1.8744201286381101, 1.8744201286381101, 1.9595142760224447, 1.8585461582902778, 1.8497429432938843, 1.8497429432938843, 1.8497429432938843, 1.8396611263681026, 1.8375213065396652, 1.8185325489385538, 1.6954206988313412, 1.723688520183534, 1.7378109660967647, 1.7543520255231166, 611.9237266592894, 293.297088533141, 190.982636220019, 189.33597821606463, 183.40540368181482, 165.63878412329345, 143.96846351679736, 118.05331669633111, 94.91648347620034, 86.49691352576882, 86.19053447757112, 77.82692598750712, 70.20911059303398, 68.42209450371084, 60.85144564745826, 56.17787277730775, 53.88904909588574, 49.1827060516657, 28.648792416585138, 12.251714100507533, 1.6612355794979359, 1.6619648152106528, 1.6594002486193737, 1.6654048111124924, 1.661418903132813, 1.6597414684275313, 1.6644662312400043, 1.6564174585193188, 1.6619556235132522, 1.658589096712767, 1.6642280782576264, 1.6683497205746198, 1.6659891061177219, 1.6697853500488287, 1.6857315540446418, 1.9854924372428269, 1.6933352585485222, 1.8744201286381101, 1.8744201286381101, 1.8585461582902778, 1.8396611263681026, 1.8497429432938843, 1.8497429432938843, 1.8497429432938843, 1.8375213065396652, 1.9595142760224447, 477.4810705934405, 370.95757205592867, 249.8338357572952, 190.27490946204097, 173.10388311252606, 163.265607699857, 128.75865774548012, 123.89736595977651, 122.59611192368814, 84.75663395327585, 63.38477813541724, 58.72133872276585, 54.499363126619116, 52.52686455250766, 33.85441376228876, 31.77011382763991, 16.199301660723272, 13.024957677523126, 1.6756286945609353, 1.6736861021696243, 1.6601661775554977, 1.6671210056416745, 1.674107330508733, 1.6631750537217438, 1.659469640863228, 1.659469640863228, 1.660476834359883, 1.6615463323138184, 1.6685867602218585, 1.662593064121877, 1.673688038687633, 1.6722770583739852, 1.6714187929733908, 1.6692719755899579, 1.672922502089849, 1.9854924372428269, 1.6939423671515335, 1.9595142760224447, 1.8744201286381101, 1.8744201286381101, 1.8585461582902778, 1.8396611263681026, 1.8497429432938843, 1.8497429432938843, 1.8497429432938843, 1.8375213065396652, 1.8185325489385538, 1.7089247920650366, 1.7378109660967647, 1.7543520255231166, 432.9505559683766, 416.5826152564971, 277.7434474844804, 253.653578329106, 239.05724271281852, 238.54545095746943, 122.50784638426637, 116.61235091961892, 87.7169304483856, 25.835894576644876, 25.20142442777412, 18.878196522985373, 14.052049310777642, 5.571578989308501, 1.9854924372428269, 1.8744201286381101, 1.8744201286381101, 1.9595142760224447, 1.8585461582902778, 1.8497429432938843, 1.8497429432938843, 1.8497429432938843, 1.8396611263681026, 1.8375213065396652, 1.8185325489385538, 1.6647857719019086, 1.6852588772692585, 1.683317996481438, 1.6606341248455607, 1.6637148581408885, 1.6838864831076705, 1.6811699345660727, 1.6863137557138428, 1.6846737628869306, 1.6922876305556962, 1.705986602179614, 1.7127879541762288, 1.7378109660967647, 1.6956080345211237, 1.7121039843663741, 1.712948258077815, 1.723688520183534, 1.7238320630459658, 1.7317669603229544, 1.7404149971358065, 1.7543520255231166, 405.6416505100431, 277.90167023498265, 209.64213682348907, 165.1900285504079, 113.16554062641715, 107.17240767844577, 101.76221873018005, 99.58383531211582, 89.66550873500046, 74.68992627269228, 60.57633817362996, 48.734033566315354, 48.25472704877489, 38.33168562796453, 38.268313205487026, 34.95051188546431, 21.677303608656107, 17.48881653976791, 8.728185455705617, 1.659762996312294, 1.6617572750173222, 1.658254228483181, 1.6569441979204933, 1.65526013494904, 1.6571004657512174, 1.654911601642166, 1.6548312475963052, 1.6549003257635684, 1.6549894574340813, 1.6548591409211877, 1.6603952472878176, 1.6570507324937, 1.6570507324937, 1.6570507324937, 1.6570507324937, 1.6632594828052878, 1.6592866646728006, 1.6613616001354388, 1.6573257811324118, 1.658262692305579, 1.663518387217808, 1.660828095084527, 1.6611239958909938, 1.6602916918593147, 1.6609536477539908, 1.6654048111124924, 1.6671464151355608, 1.6680156531878434, 1.6800157381029994, 1.6751422929203135, 1.9854924372428269, 1.6761931542726225, 1.8744201286381101, 1.8744201286381101, 1.8585461582902778, 1.8497429432938843, 1.8497429432938843, 1.8497429432938843, 1.8396611263681026, 1.8375213065396652, 1.9595142760224447, 1.8185325489385538, 292.5493278166755, 275.1330533015746, 198.72620359542637, 163.0858978014497, 153.53565392026098, 118.11534198587775, 118.01361149962314, 93.92291246790516, 89.52571997849859, 63.40443395037715, 56.841744027933764, 40.66075437432663, 9.97817876908916, 9.30716064007669, 9.04484078401766, 1.658915062972599, 1.6570460112730392, 1.6570460112730392, 1.6556106105795265, 1.655392775432601, 1.655392775432601, 1.655392775432601, 1.655392775432601, 1.655392775432601, 1.655392775432601, 1.6551924956490371, 1.6552105492071592, 1.6551547331638987, 1.6550161068710274, 1.6550161068710274, 1.6600931142045277, 1.6579126909897515, 1.6582330059125818, 1.6612924091134087, 1.660966052097624, 1.6577151752470063, 1.6577151752470063, 1.6594823942860124, 1.658597598671158, 1.6586267338998624, 1.6649000854822023, 1.6572970563511351, 1.6590348184445545, 1.6608886536542502, 1.660751217972611, 1.6627770329272389, 1.6591139415168479, 1.6612120248908737, 1.659910802732895, 1.6630046648622046, 1.6592866646728006, 1.667348197715789, 1.6648803229416713, 1.6656020162815934, 1.666995973800388, 1.6669797265979338, 1.9854924372428269, 1.6828006302728353, 1.6730305942082146, 1.8744201286381101, 1.8744201286381101, 1.8585461582902778, 1.8497429432938843, 1.8497429432938843, 1.8497429432938843, 1.8396611263681026, 1.8375213065396652, 1.6949312920234563, 1.9595142760224447, 1.8185325489385538, 1.6793470317366779, 1.6780528983209089, 1.6954206988313412, 1.6919541825029951, 1.7121039843663741, 1.7127879541762288, 1.7154591589426553, 1.7378109660967647, 1.723688520183534, 1.7543520255231166, 1.7317669603229544, 1.7404149971358065, 271.6531461097061, 183.72864672186452, 164.18038977890353, 145.8216824511156, 108.38004273858455, 102.029754519546, 100.85871471118128, 90.40639855879512, 82.70104909755844, 74.80806562420511, 66.5344156215583, 65.52914519617359, 56.33443596753704, 24.14057606405224, 21.78396281538225, 21.572342094243417, 18.452720120879068, 1.6552943830157376, 1.6552233727907757, 1.6552233727907757, 1.6552233727907757, 1.6553918598316717, 1.6552195543192088, 1.6552195543192088, 1.6552195543192088, 1.6549026070253228, 1.6552144458725666, 1.6547074227912804, 1.6552761905695925, 1.6552761905695925, 1.6556442845953172, 1.6552761905695925, 1.656256750593858, 1.6564769630100775, 1.6555950745326056, 1.6561851587451628, 1.6564519244068658, 1.6582169532756126, 1.6568673230191489, 1.6567942552957113, 1.6565069530152465, 1.657497601567693, 1.656795539432063, 1.6627874465599441, 1.658342243192529, 1.663829502082085, 1.6610209011733241, 1.6606951543273225, 1.661810004677484, 1.6630101516720217, 1.6626066932902848, 1.660225829586919, 1.6630719836026666, 1.66029174649234, 1.6666866859856428, 1.6666960055815552, 1.6668363085811118, 1.6758114387244327, 1.9854924372428269, 1.8744201286381101, 1.8744201286381101, 1.8585461582902778, 1.8497429432938843, 1.8497429432938843, 1.8497429432938843, 1.8396611263681026, 1.8375213065396652, 1.9595142760224447, 1.8185325489385538, 1.67647894561626, 1.6913571343222935, 1.7051930717957693, 1.705861492623149, 1.723688520183534, 1.7317669603229544, 1.7378109660967647, 1.7543520255231166, 308.3569086053284, 189.02835170669653, 153.48157358873263, 117.29037167327654, 112.39329492045194, 98.27123189982352, 44.18717202723902, 37.902419675897875, 30.822038149568634, 27.846837908308, 26.372770275952078, 17.616131614828, 1.6546206741101408, 1.6546188940644915, 1.6546136696084894, 1.6546190864795733, 1.6546103038980378, 1.6546103038980378, 1.6546103038980378, 1.6546103038980378, 1.6546103038980378, 1.6546103038980378, 1.6546103038980378, 1.6546103038980378, 1.6546103038980378, 1.6546103038980378, 1.6546206858033141, 1.6546151899000092, 1.6546173705338931, 1.6546115791659153, 1.6546184017122652, 1.6546167411403672, 1.6597868469902264, 1.6579188296845222, 1.6608886536542502, 1.6572408296103995, 1.6589358434568822, 1.6587469003172928, 1.65670817647941, 1.6561335983035226, 1.6548445351148615, 1.6612120248908737, 1.658664747271805, 1.6568983748818895, 1.6568983748818895, 1.6550260586799443, 1.657231118491655, 1.657231118491655, 1.6562092555537165, 1.6550518353755588, 1.6563228252208821, 1.6571090472200187, 1.6652819516808315, 1.6632738979242243, 1.6593010951885543, 1.6613347526704814, 1.6668363085811118, 1.6616723333632053, 1.660760858608378, 1.662162742094722, 1.659069699802528, 1.6680641500875593, 1.6642280782576264, 1.6634791601053132, 1.9854924372428269, 1.8744201286381101, 1.8744201286381101, 1.8585461582902778, 1.8497429432938843, 1.8497429432938843, 1.8497429432938843, 1.8396611263681026, 1.8375213065396652, 1.9595142760224447, 1.6763704673584514, 1.8185325489385538, 1.681081789829224, 1.6779259551619754, 1.677288017795788, 1.6922876305556962, 1.685562807844764, 1.683867528256627, 1.6949312920234563, 1.696081648903505, 1.6988508046111013, 1.6937853227164217, 1.6956080345211237, 1.723688520183534, 1.7121039843663741, 1.7378109660967647, 1.7127879541762288, 1.705986602179614, 1.7317669603229544, 1.7238320630459658, 1.7154591589426553, 1.7543520255231166, 1.7404149971358065, 1.725738325887618, 1.7312172801203651, 228.58171487398744, 195.82960611734293, 115.94073985839518, 113.16271077293027, 103.44951057958433, 94.45352727631607, 73.77837650021726, 72.93794733203246, 64.76594593526838, 58.23674846276273, 44.46246018333158, 34.10035285223599, 21.26912368284104, 7.40741582237698, 1.6546103038980378, 1.6546103038980378, 1.6546103038980378, 1.6546103038980378, 1.6546103038980378, 1.6546103038980378, 1.6546103038980378, 1.6546103038980378, 1.6546103038980378, 1.6546103038980378, 1.6546115791659153, 1.6546115791659153, 1.6546115791659153, 1.6546115791659153, 1.6546115791659153, 1.6546115791659153, 1.6549899303329259, 1.6547194819710944, 1.6547036492253704, 1.6546601851134266, 1.6547362809566282, 1.6546489545600997, 1.6546180022592476, 1.6546180022592476, 1.6546228515150618, 1.6546275075345194, 1.6564357002935362, 1.6564357002935362, 1.6554128704982314, 1.6548783559618916, 1.6546366325258617, 1.6546928646316594, 1.6546928646316594, 1.6551280276265996, 1.654806734771393, 1.6547340688241587, 1.662192420264804, 1.6625254130926026, 1.6575829451483062, 1.6567726175821786, 1.6573542555754481, 1.657734385062304, 1.6564742084463908, 1.6560687248706163, 1.6571547718341093, 1.6580485073064706, 1.6565320046005918, 1.6652657317572908, 1.658645041167999, 1.6575956343863012, 1.6609518129078726, 1.6683497205746198, 1.6659200022794967, 1.6612674561384844, 1.6611365135428642, 1.6593000773966609, 1.6707219226908683, 1.6638273606135572, 1.6626296787127623, 1.661867055629386, 1.6620105563289524, 1.661529579014354, 1.6613060059517504, 1.6651934480716855, 1.9854924372428269, 1.8744201286381101, 1.8744201286381101, 1.8585461582902778, 1.8497429432938843, 1.8497429432938843, 1.8497429432938843, 1.8396611263681026, 1.8375213065396652, 1.6895646069583328, 1.9595142760224447, 1.8185325489385538, 1.6765326495970054, 1.67647894561626, 1.688204399383165, 1.696081648903505, 1.6988508046111013, 1.7004100119149637, 1.7051930717957693, 1.7127879541762288, 1.7378109660967647, 1.723688520183534, 1.7317669603229544, 1.7238320630459658, 1.7404149971358065, 1.7543520255231166, 126.01073320411145, 90.02527013295303, 77.97584960544914, 74.37700863718464, 63.50340803187542, 43.20816316800284, 39.53362735201107, 39.51111638702125, 37.55277132267881, 30.61814483266412, 20.61791330989807, 14.731659079003894, 14.15533319413546, 6.299530044285511, 5.6888615102814, 1.6546158651111464, 1.6546155310310586, 1.6546155310310586, 1.6546103038980378, 1.6546103038980378, 1.6546103038980378, 1.6546103038980378, 1.6546103038980378, 1.6546103038980378, 1.6546103038980378, 1.6546103038980378, 1.6546103038980378, 1.6546103038980378, 1.6546124726179519, 1.6546115791659153, 1.6546178858640355, 1.6547692755507375, 1.6547692755507375, 1.654757609963641, 1.6546184384182712, 1.6546181086429437, 1.6568897988142952, 1.6546468834561403, 1.6546933930213255, 1.6546933930213255, 1.6546358916121378, 1.6551583552081244, 1.6549974210453884, 1.6555878244374904, 1.654738816156928, 1.6553022498279102, 1.6553022498279102, 1.6594152754840623, 1.658110789826107, 1.6578856857984494, 1.6550835337381167, 1.6590495189952996, 1.6601815885491649, 1.6597832123910279, 1.6597663025164398, 1.6580008704332931, 1.6581580011656425, 1.6563060455417364, 1.6583011004370132, 1.660345036365375, 1.6597928494367529, 1.6596104838197352, 1.6609265379557743, 1.6613757709536956, 1.660731430055445, 1.661965809026029, 1.6613084865747074, 1.6620098103907477, 1.6649546310774168, 1.661286134455636, 1.6697737552375984, 1.6616172303952235, 1.9854924372428269, 1.6652819516808315, 1.8744201286381101, 1.8744201286381101, 1.8585461582902778, 1.8497429432938843, 1.8497429432938843, 1.8497429432938843, 1.8396611263681026, 1.8375213065396652, 1.9595142760224447, 1.669157811401817, 1.675859344433363, 1.8185325489385538, 1.675302075742006, 1.681081789829224, 1.6949312920234563, 1.68846152438163, 1.6913571343222935, 1.685562807844764, 1.6988508046111013, 1.7121039843663741, 1.723688520183534, 1.7378109660967647, 1.7127879541762288, 1.7317669603229544, 1.7238320630459658, 1.7543520255231166, 1.7404149971358065], \"Category\": [\"Default\", \"Default\", \"Default\", \"Default\", \"Default\", \"Default\", \"Default\", \"Default\", \"Default\", \"Default\", \"Default\", \"Default\", \"Default\", \"Default\", \"Default\", \"Default\", \"Default\", \"Default\", \"Default\", \"Default\", \"Default\", \"Default\", \"Default\", \"Default\", \"Default\", \"Default\", \"Default\", \"Default\", \"Default\", \"Default\", \"Topic1\", \"Topic1\", \"Topic1\", \"Topic1\", \"Topic1\", \"Topic1\", \"Topic1\", \"Topic1\", \"Topic1\", \"Topic1\", \"Topic1\", \"Topic1\", \"Topic1\", \"Topic1\", \"Topic1\", \"Topic1\", \"Topic1\", \"Topic1\", \"Topic1\", \"Topic1\", \"Topic1\", \"Topic1\", \"Topic1\", \"Topic1\", \"Topic1\", \"Topic1\", \"Topic1\", \"Topic1\", \"Topic1\", \"Topic1\", \"Topic2\", \"Topic2\", \"Topic2\", \"Topic2\", \"Topic2\", \"Topic2\", \"Topic2\", \"Topic2\", \"Topic2\", \"Topic2\", \"Topic2\", \"Topic2\", \"Topic2\", \"Topic2\", \"Topic2\", \"Topic2\", \"Topic2\", \"Topic2\", \"Topic2\", \"Topic2\", \"Topic2\", \"Topic2\", \"Topic2\", \"Topic2\", \"Topic2\", \"Topic2\", \"Topic2\", \"Topic2\", \"Topic2\", \"Topic2\", \"Topic3\", \"Topic3\", \"Topic3\", \"Topic3\", \"Topic3\", \"Topic3\", \"Topic3\", \"Topic3\", \"Topic3\", \"Topic3\", \"Topic3\", \"Topic3\", \"Topic3\", \"Topic3\", \"Topic3\", \"Topic3\", \"Topic3\", \"Topic3\", \"Topic3\", \"Topic3\", \"Topic3\", \"Topic3\", \"Topic3\", \"Topic3\", \"Topic3\", \"Topic3\", \"Topic3\", \"Topic3\", \"Topic3\", \"Topic3\", \"Topic4\", \"Topic4\", \"Topic4\", \"Topic4\", \"Topic4\", \"Topic4\", \"Topic4\", \"Topic4\", \"Topic4\", \"Topic4\", \"Topic4\", \"Topic4\", \"Topic4\", \"Topic4\", \"Topic4\", \"Topic4\", \"Topic4\", \"Topic4\", \"Topic4\", \"Topic4\", \"Topic4\", \"Topic4\", \"Topic4\", \"Topic4\", \"Topic4\", \"Topic4\", \"Topic4\", \"Topic4\", \"Topic4\", \"Topic4\", \"Topic5\", \"Topic5\", \"Topic5\", \"Topic5\", \"Topic5\", \"Topic5\", \"Topic5\", \"Topic5\", \"Topic5\", \"Topic5\", \"Topic5\", \"Topic5\", \"Topic5\", \"Topic5\", \"Topic5\", \"Topic5\", \"Topic5\", \"Topic5\", \"Topic5\", \"Topic5\", \"Topic5\", \"Topic5\", \"Topic5\", \"Topic5\", \"Topic5\", \"Topic5\", \"Topic5\", \"Topic5\", \"Topic5\", \"Topic5\", \"Topic6\", \"Topic6\", \"Topic6\", \"Topic6\", \"Topic6\", \"Topic6\", \"Topic6\", \"Topic6\", \"Topic6\", \"Topic6\", \"Topic6\", \"Topic6\", \"Topic6\", \"Topic6\", \"Topic6\", \"Topic6\", \"Topic6\", \"Topic6\", \"Topic6\", \"Topic6\", \"Topic6\", \"Topic6\", \"Topic6\", \"Topic6\", \"Topic6\", \"Topic6\", \"Topic6\", \"Topic6\", \"Topic6\", \"Topic6\", \"Topic6\", \"Topic6\", \"Topic6\", \"Topic7\", \"Topic7\", \"Topic7\", \"Topic7\", \"Topic7\", \"Topic7\", \"Topic7\", \"Topic7\", \"Topic7\", \"Topic7\", \"Topic7\", \"Topic7\", \"Topic7\", \"Topic7\", \"Topic7\", \"Topic7\", \"Topic7\", \"Topic7\", \"Topic7\", \"Topic7\", \"Topic7\", \"Topic7\", \"Topic7\", \"Topic7\", \"Topic7\", \"Topic7\", \"Topic7\", \"Topic7\", \"Topic7\", \"Topic7\", \"Topic7\", \"Topic7\", \"Topic7\", \"Topic7\", \"Topic7\", \"Topic7\", \"Topic7\", \"Topic7\", \"Topic7\", \"Topic7\", \"Topic7\", \"Topic7\", \"Topic7\", \"Topic7\", \"Topic7\", \"Topic7\", \"Topic8\", \"Topic8\", \"Topic8\", \"Topic8\", \"Topic8\", \"Topic8\", \"Topic8\", \"Topic8\", \"Topic8\", \"Topic8\", \"Topic8\", \"Topic8\", \"Topic8\", \"Topic8\", \"Topic8\", \"Topic8\", \"Topic8\", \"Topic8\", \"Topic8\", \"Topic8\", \"Topic8\", \"Topic8\", \"Topic8\", \"Topic8\", \"Topic8\", \"Topic8\", \"Topic8\", \"Topic8\", \"Topic8\", \"Topic8\", \"Topic8\", \"Topic8\", \"Topic8\", \"Topic8\", \"Topic8\", \"Topic8\", \"Topic8\", \"Topic8\", \"Topic8\", \"Topic8\", \"Topic8\", \"Topic8\", \"Topic8\", \"Topic8\", \"Topic8\", \"Topic8\", \"Topic8\", \"Topic8\", \"Topic8\", \"Topic8\", \"Topic9\", \"Topic9\", \"Topic9\", \"Topic9\", \"Topic9\", \"Topic9\", \"Topic9\", \"Topic9\", \"Topic9\", \"Topic9\", \"Topic9\", \"Topic9\", \"Topic9\", \"Topic9\", \"Topic9\", \"Topic9\", \"Topic9\", \"Topic9\", \"Topic9\", \"Topic9\", \"Topic9\", \"Topic9\", \"Topic9\", \"Topic9\", \"Topic9\", \"Topic9\", \"Topic9\", \"Topic9\", \"Topic9\", \"Topic9\", \"Topic9\", \"Topic9\", \"Topic9\", \"Topic9\", \"Topic9\", \"Topic9\", \"Topic9\", \"Topic9\", \"Topic9\", \"Topic9\", \"Topic9\", \"Topic9\", \"Topic9\", \"Topic9\", \"Topic9\", \"Topic9\", \"Topic10\", \"Topic10\", \"Topic10\", \"Topic10\", \"Topic10\", \"Topic10\", \"Topic10\", \"Topic10\", \"Topic10\", \"Topic10\", \"Topic10\", \"Topic10\", \"Topic10\", \"Topic10\", \"Topic10\", \"Topic10\", \"Topic10\", \"Topic10\", \"Topic10\", \"Topic10\", \"Topic10\", \"Topic10\", \"Topic10\", \"Topic10\", \"Topic10\", \"Topic10\", \"Topic10\", \"Topic10\", \"Topic10\", \"Topic10\", \"Topic10\", \"Topic10\", \"Topic10\", \"Topic10\", \"Topic10\", \"Topic10\", \"Topic10\", \"Topic10\", \"Topic10\", \"Topic10\", \"Topic10\", \"Topic10\", \"Topic10\", \"Topic10\", \"Topic10\", \"Topic10\", \"Topic10\", \"Topic10\", \"Topic10\", \"Topic10\", \"Topic10\", \"Topic10\", \"Topic10\", \"Topic10\", \"Topic10\", \"Topic10\", \"Topic10\", \"Topic10\", \"Topic10\", \"Topic10\", \"Topic10\", \"Topic10\", \"Topic11\", \"Topic11\", \"Topic11\", \"Topic11\", \"Topic11\", \"Topic11\", \"Topic11\", \"Topic11\", \"Topic11\", \"Topic11\", \"Topic11\", \"Topic11\", \"Topic11\", \"Topic11\", \"Topic11\", \"Topic11\", \"Topic11\", \"Topic11\", \"Topic11\", \"Topic11\", \"Topic11\", \"Topic11\", \"Topic11\", \"Topic11\", \"Topic11\", \"Topic11\", \"Topic11\", \"Topic11\", \"Topic11\", \"Topic11\", \"Topic11\", \"Topic11\", \"Topic11\", \"Topic11\", \"Topic11\", \"Topic11\", \"Topic11\", \"Topic11\", \"Topic11\", \"Topic11\", \"Topic11\", \"Topic11\", \"Topic11\", \"Topic11\", \"Topic11\", \"Topic11\", \"Topic11\", \"Topic11\", \"Topic11\", \"Topic11\", \"Topic11\", \"Topic11\", \"Topic11\", \"Topic11\", \"Topic11\", \"Topic11\", \"Topic11\", \"Topic11\", \"Topic11\", \"Topic11\", \"Topic11\", \"Topic11\", \"Topic11\", \"Topic11\", \"Topic11\", \"Topic11\", \"Topic11\", \"Topic11\", \"Topic11\", \"Topic11\", \"Topic11\", \"Topic11\", \"Topic11\", \"Topic11\", \"Topic11\", \"Topic11\", \"Topic11\", \"Topic11\", \"Topic11\", \"Topic11\", \"Topic11\", \"Topic11\", \"Topic12\", \"Topic12\", \"Topic12\", \"Topic12\", \"Topic12\", \"Topic12\", \"Topic12\", \"Topic12\", \"Topic12\", \"Topic12\", \"Topic12\", \"Topic12\", \"Topic12\", \"Topic12\", \"Topic12\", \"Topic12\", \"Topic12\", \"Topic12\", \"Topic12\", \"Topic12\", \"Topic12\", \"Topic12\", \"Topic12\", \"Topic12\", \"Topic12\", \"Topic12\", \"Topic12\", \"Topic12\", \"Topic12\", \"Topic12\", \"Topic12\", \"Topic12\", \"Topic12\", \"Topic12\", \"Topic12\", \"Topic12\", \"Topic12\", \"Topic12\", \"Topic12\", \"Topic12\", \"Topic12\", \"Topic12\", \"Topic12\", \"Topic12\", \"Topic12\", \"Topic12\", \"Topic12\", \"Topic12\", \"Topic12\", \"Topic12\", \"Topic12\", \"Topic12\", \"Topic12\", \"Topic12\", \"Topic12\", \"Topic12\", \"Topic12\", \"Topic12\", \"Topic12\", \"Topic12\", \"Topic12\", \"Topic12\", \"Topic12\", \"Topic12\", \"Topic12\", \"Topic12\", \"Topic12\", \"Topic12\", \"Topic12\", \"Topic12\", \"Topic12\", \"Topic12\", \"Topic12\", \"Topic12\", \"Topic12\", \"Topic12\", \"Topic12\", \"Topic13\", \"Topic13\", \"Topic13\", \"Topic13\", \"Topic13\", \"Topic13\", \"Topic13\", \"Topic13\", \"Topic13\", \"Topic13\", \"Topic13\", \"Topic13\", \"Topic13\", \"Topic13\", \"Topic13\", \"Topic13\", \"Topic13\", \"Topic13\", \"Topic13\", \"Topic13\", \"Topic13\", \"Topic13\", \"Topic13\", \"Topic13\", \"Topic13\", \"Topic13\", \"Topic13\", \"Topic13\", \"Topic13\", \"Topic13\", \"Topic13\", \"Topic13\", \"Topic13\", \"Topic13\", \"Topic13\", \"Topic13\", \"Topic13\", \"Topic13\", \"Topic13\", \"Topic13\", \"Topic13\", \"Topic13\", \"Topic13\", \"Topic13\", \"Topic13\", \"Topic13\", \"Topic13\", \"Topic13\", \"Topic13\", \"Topic13\", \"Topic13\", \"Topic13\", \"Topic13\", \"Topic13\", \"Topic13\", \"Topic13\", \"Topic13\", \"Topic13\", \"Topic13\", \"Topic13\", \"Topic13\", \"Topic13\", \"Topic13\", \"Topic13\", \"Topic13\", \"Topic13\", \"Topic13\", \"Topic13\", \"Topic13\", \"Topic13\", \"Topic13\", \"Topic13\", \"Topic13\", \"Topic13\", \"Topic13\", \"Topic13\", \"Topic13\", \"Topic13\", \"Topic13\", \"Topic13\", \"Topic13\", \"Topic13\", \"Topic13\", \"Topic13\", \"Topic13\", \"Topic13\", \"Topic13\", \"Topic13\", \"Topic13\", \"Topic13\", \"Topic13\", \"Topic13\", \"Topic13\", \"Topic13\", \"Topic13\", \"Topic13\", \"Topic13\", \"Topic13\", \"Topic13\", \"Topic14\", \"Topic14\", \"Topic14\", \"Topic14\", \"Topic14\", \"Topic14\", \"Topic14\", \"Topic14\", \"Topic14\", \"Topic14\", \"Topic14\", \"Topic14\", \"Topic14\", \"Topic14\", \"Topic14\", \"Topic14\", \"Topic14\", \"Topic14\", \"Topic14\", \"Topic14\", \"Topic14\", \"Topic14\", \"Topic14\", \"Topic14\", \"Topic14\", \"Topic14\", \"Topic14\", \"Topic14\", \"Topic14\", \"Topic14\", \"Topic14\", \"Topic14\", \"Topic14\", \"Topic14\", \"Topic14\", \"Topic14\", \"Topic14\", \"Topic14\", \"Topic14\", \"Topic14\", \"Topic14\", \"Topic14\", \"Topic14\", \"Topic14\", \"Topic14\", \"Topic14\", \"Topic14\", \"Topic14\", \"Topic14\", \"Topic14\", \"Topic14\", \"Topic14\", \"Topic14\", \"Topic14\", \"Topic14\", \"Topic14\", \"Topic14\", \"Topic14\", \"Topic14\", \"Topic14\", \"Topic14\", \"Topic14\", \"Topic14\", \"Topic14\", \"Topic14\", \"Topic14\", \"Topic14\", \"Topic14\", \"Topic14\", \"Topic14\", \"Topic14\", \"Topic14\", \"Topic14\", \"Topic14\", \"Topic14\", \"Topic14\", \"Topic14\", \"Topic14\", \"Topic14\", \"Topic14\", \"Topic14\", \"Topic14\", \"Topic14\", \"Topic14\", \"Topic14\", \"Topic14\", \"Topic14\", \"Topic14\", \"Topic14\", \"Topic14\", \"Topic14\", \"Topic14\", \"Topic14\", \"Topic14\", \"Topic14\", \"Topic14\", \"Topic14\", \"Topic14\", \"Topic14\", \"Topic14\", \"Topic14\", \"Topic14\", \"Topic14\", \"Topic14\", \"Topic15\", \"Topic15\", \"Topic15\", \"Topic15\", \"Topic15\", \"Topic15\", \"Topic15\", \"Topic15\", \"Topic15\", \"Topic15\", \"Topic15\", \"Topic15\", \"Topic15\", \"Topic15\", \"Topic15\", \"Topic15\", \"Topic15\", \"Topic15\", \"Topic15\", \"Topic15\", \"Topic15\", \"Topic15\", \"Topic15\", \"Topic15\", \"Topic15\", \"Topic15\", \"Topic15\", \"Topic15\", \"Topic15\", \"Topic15\", \"Topic15\", \"Topic15\", \"Topic15\", \"Topic15\", \"Topic15\", \"Topic15\", \"Topic15\", \"Topic15\", \"Topic15\", \"Topic15\", \"Topic15\", \"Topic15\", \"Topic15\", \"Topic15\", \"Topic15\", \"Topic15\", \"Topic15\", \"Topic15\", \"Topic15\", \"Topic15\", \"Topic15\", \"Topic15\", \"Topic15\", \"Topic15\", \"Topic15\", \"Topic15\", \"Topic15\", \"Topic15\", \"Topic15\", \"Topic15\", \"Topic15\", \"Topic15\", \"Topic15\", \"Topic15\", \"Topic15\", \"Topic15\", \"Topic15\", \"Topic15\", \"Topic15\", \"Topic15\", \"Topic15\", \"Topic15\", \"Topic15\", \"Topic15\", \"Topic15\", \"Topic15\", \"Topic15\", \"Topic15\", \"Topic15\", \"Topic15\", \"Topic15\", \"Topic15\", \"Topic15\", \"Topic15\", \"Topic15\", \"Topic15\", \"Topic15\", \"Topic15\", \"Topic15\", \"Topic15\", \"Topic15\", \"Topic15\", \"Topic15\", \"Topic15\", \"Topic15\", \"Topic15\", \"Topic15\", \"Topic15\", \"Topic15\", \"Topic15\", \"Topic15\"], \"logprob\": [30.0, 29.0, 28.0, 27.0, 26.0, 25.0, 24.0, 23.0, 22.0, 21.0, 20.0, 19.0, 18.0, 17.0, 16.0, 15.0, 14.0, 13.0, 12.0, 11.0, 10.0, 9.0, 8.0, 7.0, 6.0, 5.0, 4.0, 3.0, 2.0, 1.0, -2.8521, -3.0827, -3.9851, -4.1088, -4.3233, -4.3272, -4.416, -4.4185, -4.4915, -4.5656, -4.6766, -4.7331, -4.7416, -4.7559, -4.7737, -4.7787, -4.8302, -4.835, -4.8532, -4.8886, -4.8949, -4.9111, -4.9212, -4.9346, -4.9367, -4.9451, -4.9579, -4.9785, -4.9851, -4.9929, -2.3426, -2.4391, -2.447, -2.7687, -3.1353, -3.5529, -3.7063, -3.7145, -3.7798, -3.8235, -3.8845, -3.8927, -4.0675, -4.1473, -4.2461, -4.2647, -4.2811, -4.2882, -4.2937, -4.3674, -4.3749, -4.4386, -4.4707, -4.5227, -4.5669, -4.7774, -4.7909, -4.7973, -4.911, -5.1335, -1.9089, -2.2225, -2.3394, -2.6568, -2.9893, -3.5421, -3.5771, -3.6108, -3.8794, -4.0122, -4.0365, -4.163, -4.2897, -4.4506, -4.4952, -4.9276, -5.4504, -6.1222, -6.6202, -7.1522, -10.5007, -10.514, -10.5629, -10.5629, -10.572, -10.5774, -10.5774, -10.5774, -10.5829, -10.5844, -2.1699, -2.2365, -2.4636, -2.7036, -2.7401, -3.248, -3.7365, -3.7548, -3.9078, -4.3445, -4.3503, -4.7475, -5.1074, -5.1914, -5.3291, -5.5038, -5.5579, -5.6128, -7.3387, -10.2882, -10.3026, -10.3509, -10.3509, -10.3601, -10.3655, -10.3655, -10.3655, -10.3712, -10.3726, -10.3839, -1.6725, -2.4557, -2.8064, -3.1231, -3.5281, -3.6032, -3.6078, -3.7004, -3.9407, -3.9923, -4.0317, -4.0667, -4.1302, -4.1609, -4.2313, -4.2732, -4.3258, -4.5478, -4.9934, -10.4704, -10.4704, -10.4793, -10.4902, -10.4851, -10.4851, -10.4851, -10.4921, -10.5037, -10.4168, -10.4315, -2.4618, -2.5241, -2.6475, -2.6621, -2.9368, -3.1305, -3.1935, -3.3265, -3.5101, -3.8338, -4.1618, -4.4504, -4.5839, -4.8354, -4.8874, -4.9251, -5.1895, -5.7195, -10.2825, -10.3418, -10.3418, -10.2976, -10.3505, -10.3556, -10.3556, -10.3556, -10.3611, -10.3624, -10.3736, -10.4439, -10.429, -10.4218, -10.4182, -1.9144, -2.6526, -3.0844, -3.0931, -3.1252, -3.228, -3.3697, -3.5705, -3.7919, -3.8864, -3.89, -3.994, -4.0992, -4.1256, -4.2458, -4.3278, -4.3706, -4.4649, -5.0288, -5.9577, -10.544, -10.5435, -10.5451, -10.5415, -10.5439, -10.5449, -10.5421, -10.5469, -10.5436, -10.5456, -10.5422, -10.5398, -10.5412, -10.5391, -10.5301, -10.376, -10.5258, -10.4309, -10.4309, -10.4389, -10.4485, -10.4436, -10.4436, -10.4436, -10.4498, -10.3903, -2.1174, -2.3707, -2.768, -3.0423, -3.1377, -3.1968, -3.4368, -3.4757, -3.4864, -3.8612, -4.1581, -4.2365, -4.3132, -4.3511, -4.8072, -4.8739, -5.5978, -5.8419, -10.4605, -10.462, -10.4701, -10.466, -10.4619, -10.4684, -10.4707, -10.4707, -10.4701, -10.4695, -10.4652, -10.4688, -10.4622, -10.4631, -10.4636, -10.4649, -10.4628, -10.298, -10.4508, -10.311, -10.354, -10.354, -10.3622, -10.3721, -10.367, -10.367, -10.367, -10.3734, -10.3837, -10.4428, -10.4285, -10.4244, -2.2131, -2.2518, -2.6591, -2.7503, -2.81, -2.8121, -3.4847, -3.5346, -3.8238, -5.0897, -5.1161, -5.427, -5.7531, -6.8847, -10.2112, -10.2709, -10.2709, -10.2267, -10.2797, -10.2848, -10.2848, -10.2848, -10.2903, -10.2917, -10.3029, -10.3927, -10.3805, -10.3817, -10.3953, -10.3936, -10.3816, -10.3832, -10.3802, -10.3812, -10.3769, -10.3694, -10.3657, -10.3529, -10.3751, -10.3664, -10.3664, -10.361, -10.3617, -10.3587, -10.3555, -10.3503, -2.119, -2.499, -2.7827, -3.023, -3.4056, -3.4608, -3.5134, -3.5354, -3.642, -3.8283, -4.0427, -4.2667, -4.2769, -4.5157, -4.5175, -4.6122, -5.1187, -5.3521, -6.15, -10.4032, -10.4021, -10.4042, -10.405, -10.406, -10.405, -10.4063, -10.4063, -10.4063, -10.4062, -10.4063, -10.403, -10.405, -10.405, -10.405, -10.405, -10.4013, -10.4037, -10.4024, -10.4048, -10.4043, -10.4012, -10.4028, -10.4026, -10.4031, -10.4028, -10.4003, -10.3993, -10.399, -10.3927, -10.3953, -10.2482, -10.3948, -10.2988, -10.2988, -10.3062, -10.3105, -10.3105, -10.3105, -10.3153, -10.3164, -10.2629, -10.3268, -2.3587, -2.4205, -2.748, -2.9473, -3.0083, -3.2736, -3.2745, -3.5063, -3.555, -3.9073, -4.0195, -4.3658, -5.901, -5.984, -6.0184, -10.3308, -10.332, -10.332, -10.3328, -10.333, -10.333, -10.333, -10.333, -10.333, -10.333, -10.3331, -10.3331, -10.3331, -10.3332, -10.3332, -10.3302, -10.3315, -10.3313, -10.3295, -10.3297, -10.3316, -10.3316, -10.3306, -10.3311, -10.3311, -10.3275, -10.3319, -10.3309, -10.3298, -10.3299, -10.3288, -10.3308, -10.3297, -10.3304, -10.3287, -10.3307, -10.3264, -10.3278, -10.3274, -10.3267, -10.3267, -10.1791, -10.3188, -10.3237, -10.2286, -10.2286, -10.2358, -10.24, -10.24, -10.24, -10.2446, -10.2457, -10.3128, -10.194, -10.2557, -10.3206, -10.3213, -10.3133, -10.315, -10.3061, -10.3059, -10.3052, -10.2972, -10.3026, -10.295, -10.3011, -10.299, -2.3395, -2.7333, -2.8468, -2.9666, -3.2671, -3.3284, -3.3402, -3.4514, -3.5421, -3.6445, -3.7643, -3.7799, -3.9351, -4.8214, -4.9317, -4.9422, -5.1118, -10.3749, -10.375, -10.375, -10.375, -10.3749, -10.375, -10.375, -10.375, -10.3752, -10.375, -10.3753, -10.375, -10.375, -10.3748, -10.375, -10.3744, -10.3743, -10.3748, -10.3745, -10.3743, -10.3734, -10.3741, -10.3742, -10.3743, -10.3738, -10.3742, -10.3712, -10.3734, -10.3707, -10.3721, -10.3723, -10.3718, -10.3712, -10.3714, -10.3726, -10.3713, -10.3726, -10.3696, -10.3696, -10.3696, -10.3656, -10.2417, -10.2848, -10.2848, -10.2911, -10.2948, -10.2948, -10.2948, -10.2987, -10.2997, -10.2557, -10.3097, -10.3658, -10.3601, -10.3558, -10.3557, -10.3506, -10.3486, -10.3476, -10.3457, -2.1114, -2.604, -2.8143, -3.0863, -3.1296, -3.2659, -4.0851, -4.2446, -4.4612, -4.5684, -4.6261, -5.0613, -10.1535, -10.1535, -10.1535, -10.1535, -10.1535, -10.1535, -10.1535, -10.1535, -10.1535, -10.1535, -10.1535, -10.1535, -10.1535, -10.1535, -10.1535, -10.1535, -10.1535, -10.1535, -10.1535, -10.1535, -10.1506, -10.1517, -10.15, -10.1521, -10.1511, -10.1512, -10.1524, -10.1527, -10.1534, -10.1499, -10.1513, -10.1523, -10.1523, -10.1533, -10.1521, -10.1521, -10.1527, -10.1533, -10.1526, -10.1522, -10.1478, -10.1489, -10.151, -10.1499, -10.147, -10.1498, -10.1503, -10.1496, -10.1512, -10.1466, -10.1485, -10.1489, -10.0056, -10.0531, -10.0531, -10.06, -10.064, -10.064, -10.064, -10.0686, -10.0696, -10.0195, -10.1428, -10.0802, -10.141, -10.1425, -10.1428, -10.1364, -10.1394, -10.1401, -10.1356, -10.1352, -10.1343, -10.1362, -10.1356, -10.1255, -10.1298, -10.1212, -10.1297, -10.1321, -10.1247, -10.127, -10.1296, -10.1203, -10.1237, -10.1277, -10.1276, -2.3678, -2.5236, -3.0534, -3.0779, -3.169, -3.2615, -3.5132, -3.5249, -3.6466, -3.7556, -4.0341, -4.3106, -4.8122, -6.0282, -10.2411, -10.2411, -10.2411, -10.2411, -10.2411, -10.2411, -10.2411, -10.2411, -10.2411, -10.2411, -10.2411, -10.2411, -10.2411, -10.2411, -10.2411, -10.2411, -10.2409, -10.241, -10.241, -10.2411, -10.241, -10.2411, -10.2411, -10.2411, -10.2411, -10.2411, -10.2401, -10.2401, -10.2407, -10.241, -10.2411, -10.241, -10.241, -10.2408, -10.241, -10.241, -10.2372, -10.2371, -10.2396, -10.24, -10.2397, -10.2395, -10.2402, -10.2404, -10.2398, -10.2394, -10.2401, -10.2359, -10.2391, -10.2396, -10.238, -10.2346, -10.2358, -10.2379, -10.238, -10.2388, -10.2337, -10.2368, -10.2373, -10.2377, -10.2376, -10.2379, -10.238, -10.2363, -10.1118, -10.1535, -10.1535, -10.1596, -10.1631, -10.1631, -10.1631, -10.1671, -10.168, -10.2263, -10.1261, -10.1775, -10.2319, -10.2319, -10.2278, -10.2251, -10.2242, -10.2238, -10.2225, -10.2205, -10.2139, -10.2178, -10.2159, -10.2179, -10.2154, -10.2131, -2.5912, -2.9326, -3.079, -3.1273, -3.2891, -3.6862, -3.7786, -3.7792, -3.8322, -4.0464, -4.4686, -4.8386, -4.8834, -5.8639, -6.0026, -10.0584, -10.0584, -10.0584, -10.0584, -10.0584, -10.0584, -10.0584, -10.0584, -10.0584, -10.0584, -10.0584, -10.0584, -10.0584, -10.0584, -10.0584, -10.0584, -10.0584, -10.0584, -10.0584, -10.0584, -10.0584, -10.0574, -10.0584, -10.0584, -10.0584, -10.0584, -10.0582, -10.0583, -10.058, -10.0584, -10.0581, -10.0581, -10.0565, -10.057, -10.0571, -10.0582, -10.0566, -10.0562, -10.0564, -10.0564, -10.0571, -10.057, -10.0578, -10.057, -10.0562, -10.0564, -10.0565, -10.056, -10.0558, -10.0561, -10.0556, -10.0559, -10.0556, -10.0546, -10.0559, -10.053, -10.0558, -9.9602, -10.0546, -9.9922, -9.9922, -9.9969, -9.9996, -9.9996, -9.9996, -10.0027, -10.0034, -9.973, -10.0535, -10.0516, -10.0115, -10.0517, -10.0504, -10.0471, -10.0487, -10.0481, -10.0494, -10.0465, -10.0438, -10.0417, -10.0396, -10.0441, -10.0412, -10.0426, -10.0399, -10.0412], \"loglift\": [30.0, 29.0, 28.0, 27.0, 26.0, 25.0, 24.0, 23.0, 22.0, 21.0, 20.0, 19.0, 18.0, 17.0, 16.0, 15.0, 14.0, 13.0, 12.0, 11.0, 10.0, 9.0, 8.0, 7.0, 6.0, 5.0, 4.0, 3.0, 2.0, 1.0, 0.9658, 0.9656, 0.9642, 0.9639, 0.9633, 0.9632, 0.9629, 0.9629, 0.9626, 0.9623, 0.9618, 0.9616, 0.9615, 0.9615, 0.9614, 0.9613, 0.9611, 0.961, 0.9609, 0.9607, 0.9607, 0.9606, 0.9605, 0.9605, 0.9604, 0.9604, 0.9603, 0.9602, 0.9601, 0.9601, 2.3204, 2.3202, 2.3202, 2.3194, 2.3182, 2.3161, 2.3151, 2.3151, 2.3146, 2.3143, 2.3138, 2.3137, 2.3121, 2.3112, 2.3101, 2.3099, 2.3097, 2.3096, 2.3095, 2.3086, 2.3085, 2.3076, 2.3071, 2.3063, 2.3056, 2.3017, 2.3014, 2.3013, 2.2988, 2.2931, 2.7938, 2.7931, 2.7928, 2.7917, 2.7901, 2.786, 2.7857, 2.7853, 2.7822, 2.7803, 2.7799, 2.7778, 2.7753, 2.7718, 2.7708, 2.7575, 2.7321, 2.6746, 2.6036, 2.4878, 0.208, 0.2079, 0.2033, 0.2033, 0.2027, 0.2021, 0.2021, 0.2021, 0.202, 0.2017, 2.9798, 2.9796, 2.9787, 2.9777, 2.9775, 2.974, 2.9686, 2.9683, 2.966, 2.9569, 2.9567, 2.9443, 2.9281, 2.9235, 2.915, 2.9026, 2.8983, 2.8937, 2.5622, 0.4205, 0.4192, 0.4153, 0.4153, 0.4146, 0.414, 0.414, 0.414, 0.4138, 0.4135, 0.4126, 3.0201, 3.0178, 3.0161, 3.0139, 3.0099, 3.0089, 3.0089, 3.0076, 3.0037, 3.0028, 3.002, 3.0013, 3.0, 2.9993, 2.9977, 2.9966, 2.9953, 2.9888, 2.9706, 0.2958, 0.2958, 0.2954, 0.2948, 0.2944, 0.2944, 0.2944, 0.294, 0.2928, 0.2919, 0.2904, 3.0521, 3.0519, 3.0513, 3.0512, 3.0495, 3.0481, 3.0475, 3.0463, 3.0442, 3.0396, 3.0331, 3.0254, 3.0211, 3.0112, 3.0089, 3.0071, 2.9926, 2.9503, 0.4262, 0.4244, 0.4244, 0.4242, 0.4242, 0.4239, 0.4239, 0.4239, 0.4239, 0.4237, 0.4229, 0.4227, 0.421, 0.4201, 0.4142, 3.0635, 3.0608, 3.0579, 3.0579, 3.0576, 3.0567, 3.0553, 3.0529, 3.0497, 3.048, 3.048, 3.046, 3.0438, 3.0432, 3.0403, 3.0382, 3.037, 3.0341, 3.0106, 2.9312, 0.343, 0.343, 0.343, 0.343, 0.343, 0.343, 0.343, 0.343, 0.3429, 0.3429, 0.3429, 0.3429, 0.3429, 0.3427, 0.3422, 0.3327, 0.342, 0.3354, 0.3354, 0.3359, 0.3364, 0.3359, 0.3359, 0.3359, 0.3363, 0.3315, 3.1086, 3.1077, 3.1057, 3.1037, 3.1029, 3.1024, 3.0998, 3.0993, 3.0992, 3.0935, 3.0872, 3.0853, 3.0832, 3.0821, 3.0652, 3.0621, 3.0118, 2.9858, 0.4179, 0.4175, 0.4175, 0.4174, 0.4174, 0.4174, 0.4173, 0.4173, 0.4173, 0.4173, 0.4173, 0.4173, 0.4173, 0.4172, 0.4172, 0.4172, 0.4172, 0.4107, 0.4167, 0.4108, 0.4122, 0.4122, 0.4125, 0.4128, 0.4125, 0.4125, 0.4125, 0.4127, 0.4128, 0.4158, 0.4134, 0.408, 3.1108, 3.1106, 3.1088, 3.1082, 3.1079, 3.1079, 3.1017, 3.1011, 3.0967, 3.0531, 3.0515, 3.0295, 2.9987, 2.7922, 0.4974, 0.4953, 0.4953, 0.4952, 0.4951, 0.4947, 0.4947, 0.4947, 0.4946, 0.4944, 0.4936, 0.4922, 0.4921, 0.492, 0.492, 0.4919, 0.4918, 0.4918, 0.4917, 0.4918, 0.4915, 0.491, 0.4907, 0.489, 0.4914, 0.4904, 0.4899, 0.4891, 0.4883, 0.4867, 0.485, 0.4822, 3.27, 3.2683, 3.2664, 3.2644, 3.2601, 3.2593, 3.2585, 3.2582, 3.2564, 3.2529, 3.2479, 3.2415, 3.2412, 3.2325, 3.2324, 3.2284, 3.1995, 3.1809, 3.078, 0.4846, 0.4846, 0.4846, 0.4845, 0.4845, 0.4845, 0.4845, 0.4845, 0.4845, 0.4845, 0.4845, 0.4845, 0.4845, 0.4845, 0.4845, 0.4845, 0.4844, 0.4845, 0.4844, 0.4845, 0.4845, 0.4844, 0.4844, 0.4844, 0.4844, 0.4844, 0.4842, 0.4841, 0.4839, 0.483, 0.4834, 0.4605, 0.4832, 0.4674, 0.4674, 0.4685, 0.4689, 0.4689, 0.4689, 0.4697, 0.4697, 0.4589, 0.4697, 3.3572, 3.3568, 3.3546, 3.3529, 3.3523, 3.3492, 3.3492, 3.3458, 3.345, 3.3377, 3.3348, 3.3235, 3.1931, 3.1797, 3.1739, 0.5576, 0.5575, 0.5575, 0.5575, 0.5575, 0.5575, 0.5575, 0.5575, 0.5575, 0.5575, 0.5575, 0.5575, 0.5575, 0.5575, 0.5575, 0.5575, 0.5575, 0.5575, 0.5574, 0.5574, 0.5575, 0.5575, 0.5574, 0.5575, 0.5575, 0.5573, 0.5575, 0.5574, 0.5574, 0.5574, 0.5573, 0.5574, 0.5573, 0.5574, 0.5572, 0.5574, 0.5569, 0.557, 0.5569, 0.5568, 0.5568, 0.5295, 0.5553, 0.5562, 0.5377, 0.5377, 0.5389, 0.5395, 0.5395, 0.5395, 0.5403, 0.5404, 0.5541, 0.5279, 0.5408, 0.5555, 0.5556, 0.5533, 0.5537, 0.5507, 0.5505, 0.5496, 0.5447, 0.5474, 0.5374, 0.5443, 0.5414, 3.4505, 3.4477, 3.4467, 3.4455, 3.4417, 3.4408, 3.4407, 3.4388, 3.4372, 3.4351, 3.4325, 3.4321, 3.4281, 3.3892, 3.3817, 3.3809, 3.3676, 0.5156, 0.5156, 0.5156, 0.5156, 0.5156, 0.5156, 0.5156, 0.5156, 0.5156, 0.5156, 0.5156, 0.5156, 0.5156, 0.5156, 0.5156, 0.5155, 0.5155, 0.5156, 0.5155, 0.5155, 0.5154, 0.5155, 0.5155, 0.5155, 0.5154, 0.5155, 0.5149, 0.5153, 0.5147, 0.515, 0.515, 0.5149, 0.5147, 0.5147, 0.515, 0.5146, 0.515, 0.514, 0.514, 0.514, 0.5126, 0.467, 0.4814, 0.4814, 0.4836, 0.4847, 0.4847, 0.4847, 0.4862, 0.4864, 0.4661, 0.4868, 0.5121, 0.5089, 0.505, 0.5047, 0.4995, 0.4968, 0.4943, 0.4868, 3.5518, 3.5486, 3.5467, 3.5435, 3.5429, 3.5409, 3.521, 3.515, 3.5051, 3.4994, 3.4961, 3.4644, 0.7374, 0.7374, 0.7374, 0.7374, 0.7374, 0.7374, 0.7374, 0.7374, 0.7374, 0.7374, 0.7374, 0.7374, 0.7374, 0.7374, 0.7374, 0.7374, 0.7374, 0.7374, 0.7374, 0.7374, 0.7373, 0.7373, 0.7372, 0.7373, 0.7372, 0.7372, 0.7373, 0.7373, 0.7374, 0.7371, 0.7372, 0.7373, 0.7373, 0.7374, 0.7373, 0.7373, 0.7373, 0.7374, 0.7373, 0.7373, 0.7367, 0.7368, 0.7371, 0.737, 0.7366, 0.7369, 0.737, 0.7368, 0.7371, 0.7363, 0.7366, 0.7367, 0.7031, 0.7132, 0.7132, 0.7147, 0.7155, 0.7155, 0.7155, 0.7163, 0.7165, 0.7024, 0.7351, 0.7163, 0.7341, 0.7345, 0.7345, 0.732, 0.7331, 0.7334, 0.7313, 0.731, 0.7303, 0.7313, 0.7309, 0.7246, 0.727, 0.7207, 0.7267, 0.7283, 0.7207, 0.7229, 0.7253, 0.7121, 0.7167, 0.7212, 0.7181, 3.5948, 3.5937, 3.5881, 3.5878, 3.5864, 3.585, 3.5802, 3.58, 3.5772, 3.5744, 3.5658, 3.5546, 3.5251, 3.3638, 0.6499, 0.6499, 0.6499, 0.6499, 0.6499, 0.6499, 0.6499, 0.6499, 0.6499, 0.6499, 0.6499, 0.6499, 0.6499, 0.6499, 0.6499, 0.6499, 0.6499, 0.6499, 0.6499, 0.6499, 0.6499, 0.6499, 0.6499, 0.6499, 0.6499, 0.6499, 0.6497, 0.6497, 0.6498, 0.6499, 0.6499, 0.6499, 0.6499, 0.6498, 0.6499, 0.6499, 0.6491, 0.6491, 0.6496, 0.6497, 0.6496, 0.6495, 0.6497, 0.6497, 0.6496, 0.6495, 0.6497, 0.6486, 0.6494, 0.6495, 0.6491, 0.6481, 0.6484, 0.649, 0.649, 0.6493, 0.6476, 0.6486, 0.6488, 0.6489, 0.6489, 0.6489, 0.649, 0.6483, 0.5969, 0.6127, 0.6127, 0.6151, 0.6163, 0.6163, 0.6163, 0.6178, 0.6181, 0.6438, 0.5957, 0.619, 0.6459, 0.646, 0.6431, 0.6411, 0.6404, 0.6399, 0.6384, 0.6359, 0.628, 0.6323, 0.6295, 0.6321, 0.625, 0.6194, 3.967, 3.9619, 3.9591, 3.9581, 3.9544, 3.9423, 3.9388, 3.9387, 3.9365, 3.9265, 3.8997, 3.8659, 3.861, 3.6901, 3.6534, 0.8325, 0.8325, 0.8325, 0.8325, 0.8325, 0.8325, 0.8325, 0.8325, 0.8325, 0.8325, 0.8325, 0.8325, 0.8325, 0.8325, 0.8325, 0.8325, 0.8325, 0.8325, 0.8325, 0.8325, 0.8325, 0.8321, 0.8325, 0.8325, 0.8325, 0.8325, 0.8324, 0.8325, 0.8323, 0.8325, 0.8324, 0.8324, 0.8316, 0.8318, 0.8319, 0.8324, 0.8316, 0.8314, 0.8315, 0.8315, 0.8318, 0.8318, 0.8322, 0.8317, 0.8313, 0.8314, 0.8315, 0.8311, 0.831, 0.8312, 0.8309, 0.831, 0.8309, 0.8301, 0.831, 0.8288, 0.8309, 0.7484, 0.8299, 0.774, 0.774, 0.7778, 0.7799, 0.7799, 0.7799, 0.7822, 0.7827, 0.7489, 0.8287, 0.8266, 0.785, 0.8268, 0.8247, 0.8198, 0.822, 0.8209, 0.823, 0.818, 0.813, 0.8083, 0.8023, 0.8123, 0.8042, 0.8073, 0.7926, 0.7992]}, \"token.table\": {\"Topic\": [11, 8, 14, 11, 14, 11, 10, 6, 1, 2, 8, 12, 6, 8, 3, 10, 4, 7, 6, 13, 3, 1, 1, 11, 1, 1, 7, 5, 14, 13, 10, 15, 2, 1, 10, 5, 5, 5, 3, 1, 8, 15, 14, 10, 14, 5, 1, 13, 4, 4, 10, 4, 2, 5, 1, 12, 5, 1, 6, 3, 7, 7, 1, 1, 6, 15, 13, 9, 14, 10, 3, 1, 9, 4, 8, 15, 5, 10, 15, 10, 12, 9, 7, 3, 8, 2, 2, 15, 8, 2, 10, 3, 7, 5, 13, 6, 11, 11, 11, 4, 7, 4, 7, 3, 4, 12, 15, 11, 2, 12, 15, 2, 5, 9, 14, 13, 6, 9, 8, 5, 5, 4, 13, 5, 12, 12, 12, 8, 8, 7, 2, 2, 3, 11, 1, 9, 11, 4, 3, 2, 3, 4, 5, 6, 2, 14, 2, 15, 7, 9, 1, 14, 6, 11, 12, 5, 9, 9, 12, 4, 7, 14, 2, 1, 8, 6, 6, 1, 14, 15, 7, 7, 15, 7, 12, 9, 7, 9, 2, 6, 13, 1, 4, 2, 5, 8, 10, 6, 7, 12, 2, 2, 5, 1, 6, 2, 4, 8, 8, 4, 4, 12, 3, 2, 14, 12, 1, 3, 1, 7, 1, 1, 3, 10, 1, 3, 1, 11, 13, 15, 1, 3, 10, 10, 9, 1, 12, 15, 10, 8, 14, 11, 3, 13, 7, 2, 2, 2, 4, 3, 7, 8, 2, 4, 1, 6, 12, 8, 14, 6, 3, 5, 1, 3, 15, 10, 2, 8, 4, 2, 11, 7, 1, 6, 2, 11, 2, 9, 9, 12, 15, 6, 13, 13, 10, 10, 10, 2, 5, 2], \"Freq\": [0.9905571793881687, 0.993623002022384, 0.9734301909647879, 0.9778495940603095, 0.9832609326043157, 0.9933415591655157, 0.9226239739528153, 0.9955356672119817, 0.992206290152254, 0.9745446557674695, 0.9968981585142218, 0.9875074651417063, 0.9935387793770687, 0.9947229219636107, 0.9921337263628469, 0.8019994574501277, 0.992333560768915, 0.9968562639827815, 0.9720733406608801, 0.9889984859382065, 0.9862453650933934, 0.9952122394486037, 0.9944503607266298, 0.9958817986862064, 0.9957114508368394, 0.9936139679892242, 0.979808739156662, 0.9387327861518285, 0.8099990798241226, 0.9870640483969978, 0.9897005694492739, 0.9814860981583465, 0.9982962173011747, 0.9994639081314222, 0.9840954577903958, 0.9701277468108819, 0.9711336708253542, 0.9883538474492992, 0.9772933628067514, 0.9956878065684499, 0.9932996448893578, 0.7937100013572674, 0.985988231636251, 0.9890605454907443, 0.9403302316651198, 0.989534429702707, 0.995771789335752, 0.9082584275501407, 0.9068396838298356, 0.9964234945709474, 0.9668573527483001, 0.97333751663826, 0.9936911117835368, 0.984461039536885, 0.9962359062093695, 0.9801062491122905, 0.9778017779968741, 0.9956846832591725, 0.9888855544022339, 0.9824740359047673, 0.9896187618976264, 0.990106277753925, 0.9961838330878089, 0.9939000412315462, 0.9954824727595261, 0.921528755816363, 0.9955995517938432, 0.9955774495647112, 0.9671079787915147, 0.9739978417553448, 0.9262571924871824, 0.9946119260521583, 0.9289401583831942, 0.9616002923768243, 0.9442836800257254, 0.9763255535652388, 0.9707664161503268, 0.9644184271356125, 0.7031283839078971, 0.9814253132726571, 0.9844435949090431, 0.9251319656293305, 0.9955775608287553, 0.9921063828090995, 0.9846859862993981, 0.9981043573133009, 0.99163593652982, 0.9840431592374399, 0.9792743780475728, 0.9911829992598205, 0.9652588816236922, 0.9856511843438929, 0.992943875598012, 0.9876658642637781, 0.9892695900462393, 0.9259724154129605, 0.9675987417446468, 0.801749516132418, 0.9795266946330881, 0.942357993476479, 0.9910776187759252, 0.8909971548399834, 0.9792158583564887, 0.9898959866228966, 0.938803081660906, 0.9928104094496722, 0.9471507878250727, 0.9829577469037387, 0.9809165965540307, 0.9939144967272403, 0.9746607492518932, 0.9980662054044991, 0.9842470711623886, 0.9005097483385899, 0.972733418623525, 0.9876033982148307, 0.9735364313128142, 0.7179293352343638, 0.9869807296606464, 0.9924665430329315, 0.9831460673999132, 0.9002248259008138, 0.9336787209237497, 0.9952153073511459, 0.9181065983952862, 0.9212733888899486, 0.9769380161045389, 0.99265977824126, 0.9706863167596944, 0.9827784374019125, 0.9980065268972709, 0.9902527728919286, 0.9749099186227592, 0.9947040458843701, 0.9944796685905617, 0.9954947373516734, 0.7739218596715469, 0.9827432323329734, 0.9977688775101937, 0.9913028397357313, 0.7986799052115745, 0.9938437131684258, 0.9700264350817904, 0.9945716894431097, 0.9893455428322934, 0.9846111911515608, 0.9908050348718359, 0.9612070165392235, 0.9923371740766537, 0.9935213564070648, 0.9964551748127671, 0.9897253188352536, 0.9406993028677859, 0.9829374639583031, 0.927113055811265, 0.9974971228660997, 0.9523271221744891, 0.9962009570286012, 0.990591305424018, 0.9958612937954915, 0.9861871783858015, 0.9677319218072595, 0.9928615856864229, 0.9951566229520107, 0.992248167157264, 0.994516353129892, 0.9179255529262673, 0.9970141335629428, 0.9930803088302168, 0.9617546522295274, 0.9649455849086422, 0.975952806451453, 0.8824532206646081, 0.9790331545308435, 0.9763122512080176, 0.9804264645421459, 0.9826940238125045, 0.993480958005802, 0.9964891466792906, 0.9882595835224285, 0.9498074346660348, 0.9962861891544592, 0.6736210774661858, 0.9838549617114579, 0.9778407591777138, 0.9724884284769415, 0.9441921797352698, 0.9751232071077676, 0.9863271200600978, 0.9527527404057821, 0.9645697470864053, 0.99197787704575, 0.9808673436597237, 0.9917868792297057, 0.9881384711062752, 0.9931784949584768, 0.9678522585583573, 0.8445324946416103, 0.9781528282317442, 0.941028997542438, 0.9974265737779113, 0.987266634117194, 0.9714311131416299, 0.9841758794483749, 0.9758956948556325, 0.9766646552217977, 0.9964929804399418, 0.9943711764042361, 0.9925380772445823, 0.942448100687461, 0.9973604923571266, 0.9955919185470912, 0.9551971424195573, 0.9931570392024824, 0.9931488781727735, 0.9972998562804907, 0.9971205285753978, 0.9913136588723819, 0.9408852152889139, 0.9720385436588629, 0.9992003726567762, 0.9978600545086291, 0.992796002513888, 0.9773741070981598, 0.9861734121051181, 0.996838577753686, 0.9758306058428533, 0.9183817732659155, 0.9148703666493109, 0.9709317400626235, 0.9787634355384123, 0.9591558395833591, 0.9968292566066529, 0.9731331069001837, 0.8978335529021462, 0.9864698718609316, 0.9879276853998096, 0.9884538789349465, 0.9792777106472648, 0.8933371303730228, 0.9695743358640224, 0.9259658418713758, 0.9748387790102394, 0.9834748853332026, 0.9971941536856801, 0.967967769945515, 0.979431348016495, 0.9452238702075996, 0.9906571526460273, 0.9943806585313842, 0.6919462609455129, 0.9864322793605909, 0.9956060789468905, 0.9830828747788446, 0.9775033151251641, 0.9739776582547511, 0.9753745908723314, 0.9863414408298936, 0.9974061599233399, 0.9888361407975745, 0.9899980631140013, 0.9765257850759725, 0.9960979608609684, 0.978874446942957, 0.9900291085614031, 0.8595532310414792, 0.9820834096546645, 0.9876918382881635, 0.9937228132642885, 0.9815711045247415, 0.9586509525665537, 0.9499318592451346, 0.9903468960208693, 0.9479474373913674, 0.9959529537758784, 0.9826829765293097, 0.9921669524630362, 0.989035819868635, 0.9827194444711359, 0.9884061616648718], \"Term\": [\"acquisition\", \"action\", \"active\", \"adaptive\", \"agency\", \"ai\", \"alternative\", \"analysis\", \"applications\", \"applied\", \"approach\", \"approaches\", \"architecture\", \"artificial\", \"aspects\", \"associations\", \"attention\", \"based\", \"basis\", \"behavior\", \"behavioral\", \"belief\", \"body\", \"brain\", \"case\", \"challenges\", \"change\", \"characteristics\", \"chess\", \"children\", \"classification\", \"clinical\", \"cognition\", \"cognitive\", \"communication\", \"comparative\", \"competence\", \"complex\", \"computation\", \"computational\", \"computer\", \"computers\", \"computing\", \"concept\", \"conception\", \"concepts\", \"conference\", \"connectionism\", \"connectionist\", \"consciousness\", \"consequences\", \"constraints\", \"construction\", \"content\", \"context\", \"control\", \"creative\", \"creativity\", \"critical\", \"cross\", \"cultural\", \"culture\", \"data\", \"de\", \"decision\", \"decisions\", \"design\", \"development\", \"developmental\", \"diagnosis\", \"diagnostic\", \"digital\", \"direct\", \"discourse\", \"discovery\", \"disorders\", \"distributed\", \"domain\", \"drug\", \"dynamic\", \"dynamics\", \"ecology\", \"education\", \"educational\", \"effects\", \"embodied\", \"embodiment\", \"emotion\", \"empirical\", \"engineering\", \"errors\", \"evaluation\", \"evolution\", \"evolutionary\", \"experience\", \"expert\", \"expertise\", \"experts\", \"explanatory\", \"faces\", \"first\", \"folk\", \"formal\", \"foundations\", \"frame\", \"framework\", \"fuzzy\", \"generative\", \"grammar\", \"health\", \"history\", \"human\", \"humans\", \"imitation\", \"impact\", \"implications\", \"implicit\", \"infancy\", \"inference\", \"information\", \"innovation\", \"institutions\", \"instructional\", \"intelligence\", \"intention\", \"intentional\", \"intentionality\", \"interaction\", \"interpretation\", \"interventions\", \"introduction\", \"issue\", \"issues\", \"knowledge\", \"la\", \"language\", \"leadership\", \"learn\", \"learning\", \"life\", \"linking\", \"machine\", \"machines\", \"making\", \"management\", \"mathematics\", \"meaning\", \"measurement\", \"medical\", \"memory\", \"mental\", \"metaphor\", \"methodologies\", \"methods\", \"micro\", \"mind\", \"modal\", \"model\", \"modeling\", \"models\", \"modern\", \"modularity\", \"natural\", \"network\", \"networks\", \"neural\", \"neuropsychology\", \"neuroscience\", \"new\", \"opportunities\", \"order\", \"organization\", \"organizational\", \"origins\", \"overview\", \"paradigm\", \"part\", \"perception\", \"perspective\", \"perspectives\", \"phenomena\", \"philosophy\", \"phonological\", \"physical\", \"physics\", \"place\", \"point\", \"possible\", \"practice\", \"precis\", \"priming\", \"problem\", \"problems\", \"process\", \"processes\", \"processing\", \"production\", \"programme\", \"programming\", \"properties\", \"psychology\", \"public\", \"qualitative\", \"quantum\", \"reading\", \"realism\", \"reality\", \"reasoning\", \"recognition\", \"relationships\", \"religion\", \"religious\", \"reply\", \"representation\", \"representations\", \"research\", \"review\", \"role\", \"rules\", \"school\", \"science\", \"sciences\", \"scientific\", \"search\", \"second\", \"self\", \"services\", \"sets\", \"simple\", \"situated\", \"skill\", \"skills\", \"social\", \"software\", \"solution\", \"solving\", \"spatial\", \"special\", \"speech\", \"story\", \"strategies\", \"strong\", \"structural\", \"structure\", \"study\", \"studying\", \"survey\", \"symbolic\", \"system\", \"systems\", \"tacit\", \"task\", \"teaching\", \"techniques\", \"technology\", \"temporal\", \"text\", \"theories\", \"theory\", \"therapy\", \"thinking\", \"three\", \"time\", \"tool\", \"tools\", \"top\", \"topics\", \"toward\", \"towards\", \"two\", \"uncertainty\", \"unconscious\", \"understanding\", \"unified\", \"using\", \"view\", \"visual\", \"volume\", \"within\", \"word\"]}, \"R\": 30, \"lambda.step\": 0.01, \"plot.opts\": {\"xlab\": \"PC1\", \"ylab\": \"PC2\"}, \"topic.order\": [3, 11, 5, 9, 6, 8, 7, 12, 2, 1, 10, 15, 4, 13, 14]};\n",
       "\n",
       "function LDAvis_load_lib(url, callback){\n",
       "  var s = document.createElement('script');\n",
       "  s.src = url;\n",
       "  s.async = true;\n",
       "  s.onreadystatechange = s.onload = callback;\n",
       "  s.onerror = function(){console.warn(\"failed to load library \" + url);};\n",
       "  document.getElementsByTagName(\"head\")[0].appendChild(s);\n",
       "}\n",
       "\n",
       "if(typeof(LDAvis) !== \"undefined\"){\n",
       "   // already loaded: just create the visualization\n",
       "   !function(LDAvis){\n",
       "       new LDAvis(\"#\" + \"ldavis_el602824242580982244731119120\", ldavis_el602824242580982244731119120_data);\n",
       "   }(LDAvis);\n",
       "}else if(typeof define === \"function\" && define.amd){\n",
       "   // require.js is available: use it to load d3/LDAvis\n",
       "   require.config({paths: {d3: \"https://d3js.org/d3.v5\"}});\n",
       "   require([\"d3\"], function(d3){\n",
       "      window.d3 = d3;\n",
       "      LDAvis_load_lib(\"https://cdn.jsdelivr.net/gh/bmabey/pyLDAvis@3.3.1/pyLDAvis/js/ldavis.v3.0.0.js\", function(){\n",
       "        new LDAvis(\"#\" + \"ldavis_el602824242580982244731119120\", ldavis_el602824242580982244731119120_data);\n",
       "      });\n",
       "    });\n",
       "}else{\n",
       "    // require.js not available: dynamically load d3 & LDAvis\n",
       "    LDAvis_load_lib(\"https://d3js.org/d3.v5.js\", function(){\n",
       "         LDAvis_load_lib(\"https://cdn.jsdelivr.net/gh/bmabey/pyLDAvis@3.3.1/pyLDAvis/js/ldavis.v3.0.0.js\", function(){\n",
       "                 new LDAvis(\"#\" + \"ldavis_el602824242580982244731119120\", ldavis_el602824242580982244731119120_data);\n",
       "            })\n",
       "         });\n",
       "}\n",
       "</script>"
      ],
      "text/plain": [
       "PreparedData(topic_coordinates=              x         y  topics  cluster       Freq\n",
       "topic                                                \n",
       "2     -0.475519  0.056234       1        1  38.037464\n",
       "10    -0.039039 -0.365694       2        1   9.805863\n",
       "4      0.014273  0.018606       3        1   6.106972\n",
       "8      0.035260  0.024010       4        1   5.065432\n",
       "5      0.024797  0.022041       5        1   4.870534\n",
       "7      0.036651  0.024199       6        1   4.705528\n",
       "6      0.030074  0.023216       7        1   4.660379\n",
       "11     0.036289  0.024153       8        1   4.451720\n",
       "1      0.041593  0.024633       9        1   4.440923\n",
       "0      0.041404  0.024690      10        1   3.785963\n",
       "9      0.045974  0.024903      11        1   3.464906\n",
       "14     0.043420  0.024813      12        1   3.154587\n",
       "3      0.055038  0.024776      13        1   2.852767\n",
       "12     0.051072  0.024951      14        1   2.727708\n",
       "13     0.058713  0.024469      15        1   1.869254, topic_info=            Term         Freq        Total Category  logprob  loglift\n",
       "116         mind   814.000000   814.000000  Default  30.0000  30.0000\n",
       "7       learning   805.000000   805.000000  Default  29.0000  29.0000\n",
       "35     cognition   838.000000   838.000000  Default  28.0000  28.0000\n",
       "45         based   611.000000   611.000000  Default  27.0000  27.0000\n",
       "2      cognitive  1952.000000  1952.000000  Default  26.0000  26.0000\n",
       "...          ...          ...          ...      ...      ...      ...\n",
       "3151   political     0.072133     1.712788  Topic15 -10.0441   0.8123\n",
       "1429          th     0.072348     1.731767  Topic15 -10.0412   0.8042\n",
       "2827   epistemic     0.072241     1.723832  Topic15 -10.0426   0.8073\n",
       "7298  enactivism     0.072442     1.754352  Topic15 -10.0399   0.7926\n",
       "4489    tracking     0.072349     1.740415  Topic15 -10.0412   0.7992\n",
       "\n",
       "[880 rows x 6 columns], token_table=      Topic      Freq         Term\n",
       "term                              \n",
       "220      11  0.990557  acquisition\n",
       "91        8  0.993623       action\n",
       "208      14  0.973430       active\n",
       "9        11  0.977850     adaptive\n",
       "259      14  0.983261       agency\n",
       "...     ...       ...          ...\n",
       "196      10  0.982683         view\n",
       "418      10  0.992167       visual\n",
       "3208      2  0.989036       volume\n",
       "20        5  0.982719       within\n",
       "291       2  0.988406         word\n",
       "\n",
       "[280 rows x 3 columns], R=30, lambda_step=0.01, plot_opts={'xlab': 'PC1', 'ylab': 'PC2'}, topic_order=[3, 11, 5, 9, 6, 8, 7, 12, 2, 1, 10, 15, 4, 13, 14])"
      ]
     },
     "execution_count": 9,
     "metadata": {},
     "output_type": "execute_result"
    }
   ],
   "source": [
    "lda_viz_title_tfidf = gensimvis.prepare(lda_model_title_tfidf, corpus_tfidf_title, id2word_title)\n",
    "pyLDAvis.save_html(lda_viz_title_tfidf, './web/tfidf_title_'+ str(num_topics) +'.html')\n",
    "lda_viz_title_tfidf"
   ]
  },
  {
   "cell_type": "code",
   "execution_count": 39,
   "metadata": {},
   "outputs": [
    {
     "name": "stderr",
     "output_type": "stream",
     "text": [
      "C:\\Users\\Haghbin\\AppData\\Roaming\\Python\\Python38\\site-packages\\ipykernel\\ipkernel.py:283: DeprecationWarning: `should_run_async` will not call `transform_cell` automatically in the future. Please pass the result to `transformed_cell` argument and any exception that happen during thetransform in `preprocessing_exc_tuple` in IPython 7.17 and above.\n",
      "  and should_run_async(code)\n"
     ]
    }
   ],
   "source": [
    "def compute_coherence_values(dictionary, corpus, texts, limit, start=2, step=3):\n",
    "    coherence_values = []\n",
    "    model_list = []\n",
    "    for num_topics in range(start, limit, step):\n",
    "        model = gensim.models.ldamodel.LdaModel(corpus=corpus,\n",
    "                                           id2word=dictionary,\n",
    "                                           num_topics=num_topics,\n",
    "                                             random_state=100,\n",
    "                                           update_every=1,\n",
    "                                           chunksize=100,\n",
    "                                           passes=10,\n",
    "                                           alpha='auto',\n",
    "                                           per_word_topics=True)\n",
    "        model_list.append(model)\n",
    "        coherencemodel = gensim.models.CoherenceModel(model=model, texts=texts, dictionary=dictionary, coherence='c_v')\n",
    "        coherence_values.append(coherencemodel.get_coherence())\n",
    "\n",
    "    return model_list, coherence_values\n",
    "\n"
   ]
  },
  {
   "cell_type": "code",
   "execution_count": 43,
   "metadata": {},
   "outputs": [
    {
     "name": "stderr",
     "output_type": "stream",
     "text": [
      "C:\\Users\\Haghbin\\AppData\\Roaming\\Python\\Python38\\site-packages\\ipykernel\\ipkernel.py:283: DeprecationWarning: `should_run_async` will not call `transform_cell` automatically in the future. Please pass the result to `transformed_cell` argument and any exception that happen during thetransform in `preprocessing_exc_tuple` in IPython 7.17 and above.\n",
      "  and should_run_async(code)\n"
     ]
    },
    {
     "data": {
      "image/png": "[encoded data removed]",
      "text/plain": [
       "<Figure size 432x288 with 1 Axes>"
      ]
     },
     "metadata": {
      "needs_background": "light"
     },
     "output_type": "display_data"
    },
    {
     "name": "stdout",
     "output_type": "stream",
     "text": [
      "Num Topics = 2  has Coherence Value of 0.4722\n",
      "Num Topics = 6  has Coherence Value of 0.4445\n",
      "Num Topics = 10  has Coherence Value of 0.4695\n",
      "Num Topics = 14  has Coherence Value of 0.4919\n",
      "Num Topics = 18  has Coherence Value of 0.5288\n",
      "Num Topics = 22  has Coherence Value of 0.5168\n",
      "Num Topics = 26  has Coherence Value of 0.4724\n",
      "Num Topics = 30  has Coherence Value of 0.4281\n",
      "Num Topics = 34  has Coherence Value of 0.3153\n",
      "Num Topics = 38  has Coherence Value of 0.2964\n",
      "Num Topics = 42  has Coherence Value of 0.5967\n",
      "Num Topics = 46  has Coherence Value of 0.5967\n",
      "Num Topics = 50  has Coherence Value of 0.5967\n",
      "Num Topics = 54  has Coherence Value of 0.5967\n",
      "Num Topics = 58  has Coherence Value of 0.5967\n"
     ]
    }
   ],
   "source": [
    "limit=60; start=2; step=4;\n",
    "model_list, coherence_values = compute_coherence_values(dictionary=id2word_title, corpus=corpus_tfidf_title,\n",
    "                                                        texts=data_words,\n",
    "                                                        start=start, limit=limit, step=step)\n",
    "\n",
    "x = range(start, limit, step)\n",
    "plt.plot(x, coherence_values)\n",
    "plt.xlabel(\"Num Topics\")\n",
    "plt.ylabel(\"Coherence score\")\n",
    "plt.legend((\"coherence_values\"), loc='best')\n",
    "plt.show()\n",
    "\n",
    "\n",
    "\n",
    "for m, cv in zip(x, coherence_values):\n",
    "    print(\"Num Topics =\", m, \" has Coherence Value of\", round(cv, 4))\n",
    "    "
   ]
  },
  {
   "cell_type": "code",
   "execution_count": 44,
   "metadata": {},
   "outputs": [
    {
     "name": "stderr",
     "output_type": "stream",
     "text": [
      "C:\\Users\\Haghbin\\AppData\\Roaming\\Python\\Python38\\site-packages\\ipykernel\\ipkernel.py:283: DeprecationWarning: `should_run_async` will not call `transform_cell` automatically in the future. Please pass the result to `transformed_cell` argument and any exception that happen during thetransform in `preprocessing_exc_tuple` in IPython 7.17 and above.\n",
      "  and should_run_async(code)\n"
     ]
    },
    {
     "data": {
      "image/png": "[encoded data removed]",
      "text/plain": [
       "<Figure size 432x288 with 1 Axes>"
      ]
     },
     "metadata": {
      "needs_background": "light"
     },
     "output_type": "display_data"
    },
    {
     "name": "stdout",
     "output_type": "stream",
     "text": [
      "Num Topics = 15  has Coherence Value of 0.5314\n",
      "Num Topics = 16  has Coherence Value of 0.5128\n",
      "Num Topics = 17  has Coherence Value of 0.5326\n",
      "Num Topics = 18  has Coherence Value of 0.5288\n",
      "Num Topics = 19  has Coherence Value of 0.5072\n",
      "Num Topics = 20  has Coherence Value of 0.4959\n"
     ]
    }
   ],
   "source": [
    "limit=21; start=15; step=1;\n",
    "model_list, coherence_values = compute_coherence_values(dictionary=id2word_title, corpus=corpus_tfidf_title,\n",
    "                                                        texts=data_words,\n",
    "                                                        start=start, limit=limit, step=step)\n",
    "\n",
    "x = range(start, limit, step)\n",
    "plt.plot(x, coherence_values)\n",
    "plt.xlabel(\"Num Topics\")\n",
    "plt.ylabel(\"Coherence score\")\n",
    "plt.legend((\"coherence_values\"), loc='best')\n",
    "plt.show()\n",
    "\n",
    "\n",
    "\n",
    "for m, cv in zip(x, coherence_values):\n",
    "    print(\"Num Topics =\", m, \" has Coherence Value of\", round(cv, 4))"
   ]
  },
  {
   "cell_type": "code",
   "execution_count": null,
   "metadata": {},
   "outputs": [],
   "source": []
  }
 ],
 "metadata": {
  "kernelspec": {
   "display_name": "Python 3",
   "language": "python",
   "name": "python3"
  },
  "language_info": {
   "codemirror_mode": {
    "name": "ipython",
    "version": 3
   },
   "file_extension": ".py",
   "mimetype": "text/x-python",
   "name": "python",
   "nbconvert_exporter": "python",
   "pygments_lexer": "ipython3",
   "version": "3.8.9"
  }
 },
 "nbformat": 4,
 "nbformat_minor": 4
}
